{
 "cells": [
  {
   "cell_type": "code",
   "execution_count": 7,
   "id": "cb7654d6-13cd-4b18-b10a-eaa58772d371",
   "metadata": {},
   "outputs": [],
   "source": [
    "import pandas as pd\n",
    "dataset = pd.read_csv('insurance_pre.csv')\n",
    "dataset = pd.get_dummies(dataset,drop_first=True,dtype=int)\n",
    "independent = dataset[['age', 'bmi', 'children', 'sex_male', 'smoker_yes']]\n",
    "dependent = dataset[['charges']]\n",
    "from sklearn.model_selection import train_test_split\n",
    "x_train, x_test, y_train, y_test = train_test_split(independent,dependent,test_size=0.3,random_state=0)"
   ]
  },
  {
   "cell_type": "code",
   "execution_count": 9,
   "id": "31c5a32b-dd94-4f94-a287-daf5001914f2",
   "metadata": {},
   "outputs": [],
   "source": [
    "from sklearn.preprocessing import StandardScaler\n",
    "sc = StandardScaler()\n",
    "x_train = sc.fit_transform(x_train)\n",
    "x_test = sc.transform(x_test)"
   ]
  },
  {
   "cell_type": "code",
   "execution_count": 37,
   "id": "32faafbc-328c-495d-8084-4ba187a1c219",
   "metadata": {},
   "outputs": [
    {
     "data": {
      "text/plain": [
       "array([20119.55595224])"
      ]
     },
     "execution_count": 37,
     "metadata": {},
     "output_type": "execute_result"
    }
   ],
   "source": [
    "import pickle\n",
    "pickle.load(open('preprocessed_input.sav','rb')).predict([[20,25,1,0,0]])"
   ]
  },
  {
   "cell_type": "code",
   "execution_count": 31,
   "id": "95f4d59a-5901-4a14-b612-c8130d1d70f5",
   "metadata": {},
   "outputs": [
    {
     "name": "stderr",
     "output_type": "stream",
     "text": [
      "C:\\Users\\vignesh_s\\AppData\\Local\\anaconda3\\Lib\\site-packages\\sklearn\\base.py:493: UserWarning: X does not have valid feature names, but StandardScaler was fitted with feature names\n",
      "  warnings.warn(\n"
     ]
    }
   ],
   "source": [
    "predict = sc.transform([[20,25,1,0,0]])"
   ]
  },
  {
   "cell_type": "code",
   "execution_count": 41,
   "id": "72422925-c0c6-4b3e-83d0-93f46e22cdb9",
   "metadata": {},
   "outputs": [
    {
     "data": {
      "text/plain": [
       "array([[-1.390292  , -0.92299913, -0.06746417, -0.97676557, -0.50466988]])"
      ]
     },
     "execution_count": 41,
     "metadata": {},
     "output_type": "execute_result"
    }
   ],
   "source": [
    "predict"
   ]
  },
  {
   "cell_type": "code",
   "execution_count": 39,
   "id": "0976b105-a948-4af7-83a5-1de9cab804e9",
   "metadata": {},
   "outputs": [
    {
     "data": {
      "text/plain": [
       "array([8497.27576345])"
      ]
     },
     "execution_count": 39,
     "metadata": {},
     "output_type": "execute_result"
    }
   ],
   "source": [
    "pickle.load(open('preprocessed_input.sav','rb')).predict(predict)"
   ]
  },
  {
   "cell_type": "code",
   "execution_count": null,
   "id": "0f151030-4bc5-4799-b6d2-b6b8cd3f7ed6",
   "metadata": {},
   "outputs": [],
   "source": []
  }
 ],
 "metadata": {
  "kernelspec": {
   "display_name": "Python 3 (ipykernel)",
   "language": "python",
   "name": "python3"
  },
  "language_info": {
   "codemirror_mode": {
    "name": "ipython",
    "version": 3
   },
   "file_extension": ".py",
   "mimetype": "text/x-python",
   "name": "python",
   "nbconvert_exporter": "python",
   "pygments_lexer": "ipython3",
   "version": "3.12.4"
  }
 },
 "nbformat": 4,
 "nbformat_minor": 5
}
