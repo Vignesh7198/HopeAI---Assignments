{
 "cells": [
  {
   "cell_type": "code",
   "execution_count": 1,
   "id": "16e35f4c-d237-42e5-9c8b-76c5271d2335",
   "metadata": {},
   "outputs": [],
   "source": [
    "import pickle\n",
    "\n",
    "scx = pickle.load(open('preprocessed_input_output-scx.sav','rb'))\n",
    "scy = pickle.load(open('preprocessed_input_output-scy.sav','rb'))\n",
    "model = pickle.load(open('preprocessed_input_output.sav','rb'))"
   ]
  },
  {
   "cell_type": "code",
   "execution_count": 3,
   "id": "db146b04-6a35-4730-8619-6a36ab3c60be",
   "metadata": {},
   "outputs": [
    {
     "name": "stderr",
     "output_type": "stream",
     "text": [
      "C:\\Users\\vignesh_s\\AppData\\Local\\anaconda3\\Lib\\site-packages\\sklearn\\base.py:493: UserWarning: X does not have valid feature names, but StandardScaler was fitted with feature names\n",
      "  warnings.warn(\n"
     ]
    }
   ],
   "source": [
    "input = scx.transform([[20,25,1,0,0]])"
   ]
  },
  {
   "cell_type": "code",
   "execution_count": 5,
   "id": "0ec27d84-f2fd-414e-8388-0485c404fe26",
   "metadata": {},
   "outputs": [
    {
     "data": {
      "text/plain": [
       "array([-0.95989303])"
      ]
     },
     "execution_count": 5,
     "metadata": {},
     "output_type": "execute_result"
    }
   ],
   "source": [
    "output = model.predict(input)\n",
    "output"
   ]
  },
  {
   "cell_type": "code",
   "execution_count": 13,
   "id": "68eab723-2a01-4d2c-abe7-7b36af1c4505",
   "metadata": {},
   "outputs": [],
   "source": [
    "o_output = scy.inverse_transform([output])"
   ]
  },
  {
   "cell_type": "code",
   "execution_count": 9,
   "id": "f4c3625b-d9c3-4872-8063-dce1c7407a5c",
   "metadata": {},
   "outputs": [
    {
     "data": {
      "text/plain": [
       "array([[1236.10294266]])"
      ]
     },
     "execution_count": 9,
     "metadata": {},
     "output_type": "execute_result"
    }
   ],
   "source": [
    "o_output"
   ]
  },
  {
   "cell_type": "code",
   "execution_count": null,
   "id": "0466b9e8-0cab-4b83-a340-159f9b41478f",
   "metadata": {},
   "outputs": [],
   "source": []
  }
 ],
 "metadata": {
  "kernelspec": {
   "display_name": "Python 3 (ipykernel)",
   "language": "python",
   "name": "python3"
  },
  "language_info": {
   "codemirror_mode": {
    "name": "ipython",
    "version": 3
   },
   "file_extension": ".py",
   "mimetype": "text/x-python",
   "name": "python",
   "nbconvert_exporter": "python",
   "pygments_lexer": "ipython3",
   "version": "3.12.4"
  }
 },
 "nbformat": 4,
 "nbformat_minor": 5
}
