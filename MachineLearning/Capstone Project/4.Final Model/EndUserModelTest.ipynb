{
 "cells": [
  {
   "cell_type": "code",
   "execution_count": 1,
   "id": "6d3a4252",
   "metadata": {},
   "outputs": [],
   "source": [
    "import pickle"
   ]
  },
  {
   "cell_type": "code",
   "execution_count": 2,
   "id": "b2e4d2e1",
   "metadata": {},
   "outputs": [],
   "source": [
    "model = pickle.load(open(\"AnxietyModel.sav\",\"rb\"))"
   ]
  },
  {
   "cell_type": "code",
   "execution_count": 6,
   "id": "acf62ddf",
   "metadata": {},
   "outputs": [
    {
     "name": "stdout",
     "output_type": "stream",
     "text": [
      "Enter your Age: 12\n",
      "Gender (male/female/m/f): m\n",
      "Enter: 1 for Independent University, Bangladesh (IUB)\n",
      "Enter: 2 for American International University Bangladesh (AIUB)\n",
      "Enter: 3 for North South University (NSU)\n",
      "Enter: 4 for Islamic University of Technology (IUT)\n",
      "Enter: 5 for Patuakhali Science and Technology University\n",
      "Enter: 6 for Rajshahi University of Engineering and Technology (RUET)\n",
      "Enter: 7 for Dhaka University (DU)\n",
      "Enter: 8 for Bangladesh University of Engineering and Technology (BUET)\n",
      "Enter: 9 for Dhaka University of Engineering and Technology (DUET)\n",
      "Enter: 10 for United International University (UIU)\n",
      "Enter: 11 for East West University (EWU)\n",
      "Enter: 12 for BRAC University\n",
      "Enter: 13 for Bangladesh Agricultural University (BAU)\n",
      "Enter: 14 for Rajshahi University (RU)\n",
      "Enter: 15 for Daffodil University\n",
      "Enter Here:2\n",
      "Enter: 1 for Engineering - CS / CSE / CSC / Similar to CS\n",
      "Enter: 2 for Engineering - EEE/ ECE / Similar to EEE\n",
      "Enter: 3 for Other\n",
      "Enter: 4 for Business and Entrepreneurship Studies\n",
      "Enter: 5 for Environmental and Life Sciences\n",
      "Enter: 6 for Engineering - Mechanical Engineering / Similar to ME\n",
      "Enter: 7 for Engineering - Civil Engineering / Similar to CE\n",
      "Enter: 8 for Biological Sciences\n",
      "Enter: 9 for Engineering - Other\n",
      "Enter: 10 for Liberal Arts and Social Sciences\n",
      "Enter: 11 for Law and Human Rights\n",
      "Enter: 12 for Pharmacy and Public Health\n",
      "Enter Here:2\n",
      "Enter: 1 for Second Year or Equivalent\n",
      "Enter: 2 for Third Year or Equivalent\n",
      "Enter: 3 for Other\n",
      "Enter: 4 for First Year or Equivalent\n",
      "Enter: 5 for Fourth Year or Equivalent\n",
      "Enter Here:2\n",
      "Enter: 1 for 2.50 - 2.99\n",
      "Enter: 2 for 3.00 - 3.39\n",
      "Enter: 3 for 3.40 - 3.79\n",
      "Enter: 4 for 3.80 - 4.00\n",
      "Enter: 5 for Below 2.50\n",
      "Enter: 6 for Other\n",
      "Enter Here:2\n",
      "Enter: 1 for No\n",
      "Enter: 2 for Yes\n",
      "Enter Here:2\n",
      "You're Age:12, You are grouped under the age group: Below 18\n",
      "You're Gender:Male\n",
      "You're Selected University:American International University Bangladesh (AIUB)\n",
      "You're Selected Department:Engineering - EEE/ ECE / Similar to EEE\n",
      "You're Selected Academic Year:Third Year or Equivalent\n",
      "You're CGPA:1, You are grouped under the CGPA group: 3.00 - 3.39\n",
      "You're Scholarship Status:Yes\n"
     ]
    }
   ],
   "source": [
    "from Prediction_helper import help_to_predict\n",
    "anxious_state = help_to_predict(model)"
   ]
  },
  {
   "cell_type": "code",
   "execution_count": 8,
   "id": "e7c96721",
   "metadata": {},
   "outputs": [
    {
     "name": "stdout",
     "output_type": "stream",
     "text": [
      "Predicted Anxious State: Less Anxious\n"
     ]
    }
   ],
   "source": [
    "print(f\"Predicted Anxious State: {anxious_state}\")"
   ]
  },
  {
   "cell_type": "code",
   "execution_count": null,
   "id": "c9b47e0b",
   "metadata": {},
   "outputs": [],
   "source": []
  }
 ],
 "metadata": {
  "kernelspec": {
   "display_name": "Python 3 (ipykernel)",
   "language": "python",
   "name": "python3"
  },
  "language_info": {
   "codemirror_mode": {
    "name": "ipython",
    "version": 3
   },
   "file_extension": ".py",
   "mimetype": "text/x-python",
   "name": "python",
   "nbconvert_exporter": "python",
   "pygments_lexer": "ipython3",
   "version": "3.10.9"
  }
 },
 "nbformat": 4,
 "nbformat_minor": 5
}
