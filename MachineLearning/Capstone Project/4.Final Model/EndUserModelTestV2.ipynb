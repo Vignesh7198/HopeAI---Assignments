{
 "cells": [
  {
   "cell_type": "code",
   "execution_count": 1,
   "id": "6d3a4252",
   "metadata": {},
   "outputs": [],
   "source": [
    "import pickle"
   ]
  },
  {
   "cell_type": "code",
   "execution_count": 2,
   "id": "b2e4d2e1",
   "metadata": {},
   "outputs": [],
   "source": [
    "model = pickle.load(open(\"AnxietyModel.sav\",\"rb\"))"
   ]
  },
  {
   "cell_type": "code",
   "execution_count": 17,
   "id": "acf62ddf",
   "metadata": {},
   "outputs": [],
   "source": [
    "# from Prediction_helper import help_to_predict\n",
    "# anxious_state = help_to_predict(model)"
   ]
  },
  {
   "cell_type": "code",
   "execution_count": 18,
   "id": "e7c96721",
   "metadata": {},
   "outputs": [],
   "source": [
    "# print(f\"Predicted Anxious State: {anxious_state}\")"
   ]
  },
  {
   "cell_type": "code",
   "execution_count": 9,
   "id": "db410ac9",
   "metadata": {},
   "outputs": [],
   "source": [
    "encoder_columns = pickle.load(open(\"./../4.Final Model/encoder_columns.sav\",\"rb\"))"
   ]
  },
  {
   "cell_type": "code",
   "execution_count": 10,
   "id": "15915684",
   "metadata": {},
   "outputs": [],
   "source": [
    "new_data = pd.DataFrame(columns=[\"1. Age\",\"2. Gender\",\"3. University\",\"4. Department\",\"5. Academic Year\",\"6. Current CGPA\",\"7. Did you receive a waiver or scholarship at your university?\"],data=[[\"23-26\",\"Male\",\"Dhaka University (DU)\",\"Engineering - CS / CSE / CSC / Similar to CS\",\"Fourth Year or Equivalent\",\"3.80 - 4.00\",\"Yes\"]])"
   ]
  },
  {
   "cell_type": "code",
   "execution_count": 11,
   "id": "4dd24ff0",
   "metadata": {},
   "outputs": [],
   "source": [
    "new_data_encoded = pd.get_dummies(new_data)"
   ]
  },
  {
   "cell_type": "code",
   "execution_count": 13,
   "id": "77746fa9",
   "metadata": {},
   "outputs": [],
   "source": [
    "for col in encoder_columns:\n",
    "    if col not in new_data_encoded.columns:\n",
    "        new_data_encoded[col]=0"
   ]
  },
  {
   "cell_type": "code",
   "execution_count": 14,
   "id": "aaee3d80",
   "metadata": {},
   "outputs": [],
   "source": [
    "new_data_encoded= new_data_encoded[encoder_columns]"
   ]
  },
  {
   "cell_type": "code",
   "execution_count": 24,
   "id": "4adfafd8",
   "metadata": {},
   "outputs": [],
   "source": [
    "selected_features = pickle.load(open(\"./../4.Final Model/SelectedFeatures.sav\",\"rb\"))"
   ]
  },
  {
   "cell_type": "code",
   "execution_count": 25,
   "id": "4780d477",
   "metadata": {},
   "outputs": [
    {
     "name": "stderr",
     "output_type": "stream",
     "text": [
      "C:\\ProgramData\\anaconda3\\lib\\site-packages\\sklearn\\base.py:432: UserWarning: X has feature names, but RandomForestClassifier was fitted without feature names\n",
      "  warnings.warn(\n"
     ]
    },
    {
     "data": {
      "text/plain": [
       "array([1])"
      ]
     },
     "execution_count": 25,
     "metadata": {},
     "output_type": "execute_result"
    }
   ],
   "source": [
    "model.predict(new_data_encoded[selected_features])"
   ]
  },
  {
   "cell_type": "code",
   "execution_count": null,
   "id": "07a8a8b0",
   "metadata": {},
   "outputs": [],
   "source": []
  }
 ],
 "metadata": {
  "kernelspec": {
   "display_name": "Python 3 (ipykernel)",
   "language": "python",
   "name": "python3"
  },
  "language_info": {
   "codemirror_mode": {
    "name": "ipython",
    "version": 3
   },
   "file_extension": ".py",
   "mimetype": "text/x-python",
   "name": "python",
   "nbconvert_exporter": "python",
   "pygments_lexer": "ipython3",
   "version": "3.10.9"
  }
 },
 "nbformat": 4,
 "nbformat_minor": 5
}
