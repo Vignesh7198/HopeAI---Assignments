{
 "cells": [
  {
   "cell_type": "code",
   "execution_count": 1,
   "id": "1dc50101",
   "metadata": {},
   "outputs": [],
   "source": [
    "import pandas as pd"
   ]
  },
  {
   "cell_type": "code",
   "execution_count": 2,
   "id": "84586244",
   "metadata": {},
   "outputs": [
    {
     "data": {
      "text/html": [
       "<div>\n",
       "<style scoped>\n",
       "    .dataframe tbody tr th:only-of-type {\n",
       "        vertical-align: middle;\n",
       "    }\n",
       "\n",
       "    .dataframe tbody tr th {\n",
       "        vertical-align: top;\n",
       "    }\n",
       "\n",
       "    .dataframe thead th {\n",
       "        text-align: right;\n",
       "    }\n",
       "</style>\n",
       "<table border=\"1\" class=\"dataframe\">\n",
       "  <thead>\n",
       "    <tr style=\"text-align: right;\">\n",
       "      <th></th>\n",
       "      <th>1. Age</th>\n",
       "      <th>2. Gender</th>\n",
       "      <th>3. University</th>\n",
       "      <th>4. Department</th>\n",
       "      <th>5. Academic Year</th>\n",
       "      <th>6. Current CGPA</th>\n",
       "      <th>7. Did you receive a waiver or scholarship at your university?</th>\n",
       "      <th>Anxiety Label</th>\n",
       "    </tr>\n",
       "  </thead>\n",
       "  <tbody>\n",
       "    <tr>\n",
       "      <th>0</th>\n",
       "      <td>18-22</td>\n",
       "      <td>Female</td>\n",
       "      <td>Independent University, Bangladesh (IUB)</td>\n",
       "      <td>Engineering - CS / CSE / CSC / Similar to CS</td>\n",
       "      <td>Second Year or Equivalent</td>\n",
       "      <td>2.50 - 2.99</td>\n",
       "      <td>No</td>\n",
       "      <td>More Anxious</td>\n",
       "    </tr>\n",
       "    <tr>\n",
       "      <th>1</th>\n",
       "      <td>18-22</td>\n",
       "      <td>Male</td>\n",
       "      <td>Independent University, Bangladesh (IUB)</td>\n",
       "      <td>Engineering - CS / CSE / CSC / Similar to CS</td>\n",
       "      <td>Third Year or Equivalent</td>\n",
       "      <td>3.00 - 3.39</td>\n",
       "      <td>No</td>\n",
       "      <td>More Anxious</td>\n",
       "    </tr>\n",
       "    <tr>\n",
       "      <th>2</th>\n",
       "      <td>18-22</td>\n",
       "      <td>Male</td>\n",
       "      <td>American International University Bangladesh (...</td>\n",
       "      <td>Engineering - CS / CSE / CSC / Similar to CS</td>\n",
       "      <td>Third Year or Equivalent</td>\n",
       "      <td>3.00 - 3.39</td>\n",
       "      <td>No</td>\n",
       "      <td>Less Anxious</td>\n",
       "    </tr>\n",
       "  </tbody>\n",
       "</table>\n",
       "</div>"
      ],
      "text/plain": [
       "  1. Age 2. Gender                                      3. University  \\\n",
       "0  18-22    Female           Independent University, Bangladesh (IUB)   \n",
       "1  18-22      Male           Independent University, Bangladesh (IUB)   \n",
       "2  18-22      Male  American International University Bangladesh (...   \n",
       "\n",
       "                                  4. Department           5. Academic Year  \\\n",
       "0  Engineering - CS / CSE / CSC / Similar to CS  Second Year or Equivalent   \n",
       "1  Engineering - CS / CSE / CSC / Similar to CS   Third Year or Equivalent   \n",
       "2  Engineering - CS / CSE / CSC / Similar to CS   Third Year or Equivalent   \n",
       "\n",
       "  6. Current CGPA  \\\n",
       "0     2.50 - 2.99   \n",
       "1     3.00 - 3.39   \n",
       "2     3.00 - 3.39   \n",
       "\n",
       "  7. Did you receive a waiver or scholarship at your university? Anxiety Label  \n",
       "0                                                 No              More Anxious  \n",
       "1                                                 No              More Anxious  \n",
       "2                                                 No              Less Anxious  "
      ]
     },
     "execution_count": 2,
     "metadata": {},
     "output_type": "execute_result"
    }
   ],
   "source": [
    "dataset = pd.read_csv(\"PreAnxiety.csv\")\n",
    "dataset.head(3)"
   ]
  },
  {
   "cell_type": "markdown",
   "id": "3a3110b9",
   "metadata": {},
   "source": [
    "## EDA"
   ]
  },
  {
   "cell_type": "markdown",
   "id": "c14c5d4c",
   "metadata": {},
   "source": [
    "## Univariate Analysis"
   ]
  },
  {
   "cell_type": "markdown",
   "id": "6bd864fc",
   "metadata": {},
   "source": [
    "## How many male and Female Students taken the Anxiety Survey?"
   ]
  },
  {
   "cell_type": "code",
   "execution_count": 3,
   "id": "bdc2ce8a",
   "metadata": {},
   "outputs": [
    {
     "data": {
      "text/plain": [
       "Male                 1405\n",
       "Female                613\n",
       "Prefer not to say      10\n",
       "Name: 2. Gender, dtype: int64"
      ]
     },
     "execution_count": 3,
     "metadata": {},
     "output_type": "execute_result"
    }
   ],
   "source": [
    "dataset[\"2. Gender\"].value_counts()"
   ]
  },
  {
   "cell_type": "markdown",
   "id": "e0067e6d",
   "metadata": {},
   "source": [
    "we have more number of male students participating in this Anxiety Survey than female students"
   ]
  },
  {
   "cell_type": "markdown",
   "id": "28bce7a4",
   "metadata": {},
   "source": [
    "## From the survey, How many reported Less Anxious and More Anxious?"
   ]
  },
  {
   "cell_type": "code",
   "execution_count": 18,
   "id": "adb8e160",
   "metadata": {},
   "outputs": [
    {
     "data": {
      "text/plain": [
       "More Anxious    1869\n",
       "Less Anxious     159\n",
       "Name: Anxiety Label, dtype: int64"
      ]
     },
     "execution_count": 18,
     "metadata": {},
     "output_type": "execute_result"
    }
   ],
   "source": [
    "dataset[\"Anxiety Label\"].value_counts()"
   ]
  },
  {
   "cell_type": "markdown",
   "id": "624b3e55",
   "metadata": {},
   "source": [
    "More number of students reported they are anxious"
   ]
  },
  {
   "cell_type": "markdown",
   "id": "d388c701",
   "metadata": {},
   "source": [
    "## Most repeated CGPA Group?"
   ]
  },
  {
   "cell_type": "code",
   "execution_count": 32,
   "id": "c576a79f",
   "metadata": {},
   "outputs": [
    {
     "data": {
      "text/plain": [
       "'3.00 - 3.39'"
      ]
     },
     "execution_count": 32,
     "metadata": {},
     "output_type": "execute_result"
    }
   ],
   "source": [
    "dataset[\"6. Current CGPA\"].mode()[0]"
   ]
  },
  {
   "cell_type": "markdown",
   "id": "aa465574",
   "metadata": {},
   "source": [
    "Most of our Surveyed people had the CGPA of 3.00 - 3.39"
   ]
  },
  {
   "cell_type": "markdown",
   "id": "df0bcbca",
   "metadata": {},
   "source": [
    "## Bivariate Analysis"
   ]
  },
  {
   "cell_type": "markdown",
   "id": "4bc86f73",
   "metadata": {},
   "source": [
    "## Which year students felt more anxious?"
   ]
  },
  {
   "cell_type": "code",
   "execution_count": 15,
   "id": "22ee0342",
   "metadata": {},
   "outputs": [],
   "source": [
    "import seaborn as sns\n",
    "import matplotlib.pyplot as plt"
   ]
  },
  {
   "cell_type": "code",
   "execution_count": 37,
   "id": "57b54fc1",
   "metadata": {},
   "outputs": [
    {
     "data": {
      "image/png": "[encoded data removed]",
      "text/plain": [
       "<Figure size 640x480 with 1 Axes>"
      ]
     },
     "metadata": {},
     "output_type": "display_data"
    }
   ],
   "source": [
    "sns.countplot(x=\"5. Academic Year\",hue=dataset[\"Anxiety Label\"],data=dataset);\n",
    "plt.xticks(rotation=90);"
   ]
  },
  {
   "cell_type": "markdown",
   "id": "db2649c9",
   "metadata": {},
   "source": [
    "More Anxiety level observed in First Year Students"
   ]
  },
  {
   "cell_type": "markdown",
   "id": "f765b9b9",
   "metadata": {},
   "source": [
    "## Split Less Anxious and More Anxious by Gender"
   ]
  },
  {
   "cell_type": "code",
   "execution_count": 9,
   "id": "eaaab268",
   "metadata": {},
   "outputs": [],
   "source": [
    "ct = pd.crosstab(dataset[\"2. Gender\"],dataset[\"Anxiety Label\"])"
   ]
  },
  {
   "cell_type": "code",
   "execution_count": 10,
   "id": "0044d168",
   "metadata": {},
   "outputs": [
    {
     "data": {
      "text/html": [
       "<div>\n",
       "<style scoped>\n",
       "    .dataframe tbody tr th:only-of-type {\n",
       "        vertical-align: middle;\n",
       "    }\n",
       "\n",
       "    .dataframe tbody tr th {\n",
       "        vertical-align: top;\n",
       "    }\n",
       "\n",
       "    .dataframe thead th {\n",
       "        text-align: right;\n",
       "    }\n",
       "</style>\n",
       "<table border=\"1\" class=\"dataframe\">\n",
       "  <thead>\n",
       "    <tr style=\"text-align: right;\">\n",
       "      <th>Anxiety Label</th>\n",
       "      <th>Less Anxious</th>\n",
       "      <th>More Anxious</th>\n",
       "    </tr>\n",
       "    <tr>\n",
       "      <th>2. Gender</th>\n",
       "      <th></th>\n",
       "      <th></th>\n",
       "    </tr>\n",
       "  </thead>\n",
       "  <tbody>\n",
       "    <tr>\n",
       "      <th>Female</th>\n",
       "      <td>29</td>\n",
       "      <td>584</td>\n",
       "    </tr>\n",
       "    <tr>\n",
       "      <th>Male</th>\n",
       "      <td>130</td>\n",
       "      <td>1275</td>\n",
       "    </tr>\n",
       "    <tr>\n",
       "      <th>Prefer not to say</th>\n",
       "      <td>0</td>\n",
       "      <td>10</td>\n",
       "    </tr>\n",
       "  </tbody>\n",
       "</table>\n",
       "</div>"
      ],
      "text/plain": [
       "Anxiety Label      Less Anxious  More Anxious\n",
       "2. Gender                                    \n",
       "Female                       29           584\n",
       "Male                        130          1275\n",
       "Prefer not to say             0            10"
      ]
     },
     "execution_count": 10,
     "metadata": {},
     "output_type": "execute_result"
    }
   ],
   "source": [
    "ct"
   ]
  },
  {
   "cell_type": "code",
   "execution_count": 7,
   "id": "788f000e",
   "metadata": {},
   "outputs": [
    {
     "data": {
      "text/plain": [
       "<Axes: xlabel='2. Gender', ylabel='count'>"
      ]
     },
     "execution_count": 7,
     "metadata": {},
     "output_type": "execute_result"
    },
    {
     "data": {
      "image/png": "[encoded data removed]",
      "text/plain": [
       "<Figure size 640x480 with 1 Axes>"
      ]
     },
     "metadata": {},
     "output_type": "display_data"
    }
   ],
   "source": [
    "sns.countplot(x=\"2. Gender\",hue=\"Anxiety Label\", data=dataset);"
   ]
  },
  {
   "cell_type": "code",
   "execution_count": 17,
   "id": "0a1979bf",
   "metadata": {},
   "outputs": [
    {
     "data": {
      "image/png": "[encoded data removed]",
      "text/plain": [
       "<Figure size 640x480 with 2 Axes>"
      ]
     },
     "metadata": {},
     "output_type": "display_data"
    }
   ],
   "source": [
    "sns.heatmap(ct, annot=True, cmap=\"coolwarm\");"
   ]
  },
  {
   "cell_type": "markdown",
   "id": "c4d77764",
   "metadata": {},
   "source": [
    "## Do Gender has any relationship with Predicting Anxiety among Students?"
   ]
  },
  {
   "cell_type": "code",
   "execution_count": 16,
   "id": "ec388175",
   "metadata": {},
   "outputs": [
    {
     "data": {
      "text/plain": [
       "Chi2ContingencyResult(statistic=12.93237916935218, pvalue=0.001555140187508156, dof=2, expected_freq=array([[4.80606509e+01, 5.64939349e+02],\n",
       "       [1.10155325e+02, 1.29484467e+03],\n",
       "       [7.84023669e-01, 9.21597633e+00]]))"
      ]
     },
     "execution_count": 16,
     "metadata": {},
     "output_type": "execute_result"
    }
   ],
   "source": [
    "from scipy.stats import chi2_contingency\n",
    "chi2_contingency(pd.crosstab(dataset[\"2. Gender\"],dataset[\"Anxiety Label\"]))"
   ]
  },
  {
   "cell_type": "markdown",
   "id": "8febbbe2",
   "metadata": {},
   "source": [
    "From Chi Square Analysis, with p-value of 0.00155 we can reject the null hypothesis and accept alternate hypothesis. There is a strong relationship between gender to predict the outcome of Anxiety"
   ]
  },
  {
   "cell_type": "code",
   "execution_count": 19,
   "id": "eeb14613",
   "metadata": {},
   "outputs": [
    {
     "data": {
      "text/plain": [
       "Chi2ContingencyResult(statistic=4.317801501185046, pvalue=0.5046244481597818, dof=5, expected_freq=array([[ 30.49852071, 358.50147929],\n",
       "       [ 45.70857988, 537.29142012],\n",
       "       [ 43.90532544, 516.09467456],\n",
       "       [ 18.89497041, 222.10502959],\n",
       "       [  6.58579882,  77.41420118],\n",
       "       [ 13.40680473, 157.59319527]]))"
      ]
     },
     "execution_count": 19,
     "metadata": {},
     "output_type": "execute_result"
    }
   ],
   "source": [
    "chi2_contingency(pd.crosstab(dataset[\"6. Current CGPA\"],dataset[\"Anxiety Label\"]))"
   ]
  },
  {
   "cell_type": "markdown",
   "id": "53a8e0bb",
   "metadata": {},
   "source": [
    "From Chi Square Analysis, with p-value of 0.50462 we can reject the Alternate hypothesis and accept Null hypothesis. There is a no relationship between CGPA to predict the outcome of Anxiety"
   ]
  },
  {
   "cell_type": "code",
   "execution_count": 22,
   "id": "c06bf158",
   "metadata": {},
   "outputs": [
    {
     "data": {
      "text/plain": [
       "Chi2ContingencyResult(statistic=5.8067033708131435, pvalue=0.21405632560410875, dof=4, expected_freq=array([[ 47.11982249, 553.88017751],\n",
       "       [ 31.59615385, 371.40384615],\n",
       "       [  5.64497041,  66.35502959],\n",
       "       [ 29.94970414, 352.05029586],\n",
       "       [ 44.68934911, 525.31065089]]))"
      ]
     },
     "execution_count": 22,
     "metadata": {},
     "output_type": "execute_result"
    }
   ],
   "source": [
    "chi2_contingency(pd.crosstab(dataset[\"5. Academic Year\"],dataset[\"Anxiety Label\"]))"
   ]
  },
  {
   "cell_type": "code",
   "execution_count": 23,
   "id": "fd83eb69",
   "metadata": {},
   "outputs": [
    {
     "data": {
      "text/plain": [
       "Chi2ContingencyResult(statistic=2.073549456802558, pvalue=0.14987236432758558, dof=1, expected_freq=array([[ 125.60059172, 1476.39940828],\n",
       "       [  33.39940828,  392.60059172]]))"
      ]
     },
     "execution_count": 23,
     "metadata": {},
     "output_type": "execute_result"
    }
   ],
   "source": [
    "chi2_contingency(pd.crosstab(dataset[\"7. Did you receive a waiver or scholarship at your university?\"],dataset[\"Anxiety Label\"]))"
   ]
  },
  {
   "cell_type": "code",
   "execution_count": 24,
   "id": "adafeaa4",
   "metadata": {},
   "outputs": [
    {
     "data": {
      "text/plain": [
       "Chi2ContingencyResult(statistic=11.646711610429804, pvalue=0.3907758213452014, dof=11, expected_freq=array([[7.44822485e+00, 8.75517751e+01],\n",
       "       [1.13683432e+01, 1.33631657e+02],\n",
       "       [1.10468935e+02, 1.29853107e+03],\n",
       "       [3.92011834e+00, 4.60798817e+01],\n",
       "       [9.95710059e+00, 1.17042899e+02],\n",
       "       [5.33136095e+00, 6.26686391e+01],\n",
       "       [3.13609467e-01, 3.68639053e+00],\n",
       "       [3.68491124e+00, 4.33150888e+01],\n",
       "       [7.84023669e-02, 9.21597633e-01],\n",
       "       [7.84023669e-02, 9.21597633e-01],\n",
       "       [6.19378698e+00, 7.28062130e+01],\n",
       "       [1.56804734e-01, 1.84319527e+00]]))"
      ]
     },
     "execution_count": 24,
     "metadata": {},
     "output_type": "execute_result"
    }
   ],
   "source": [
    "chi2_contingency(pd.crosstab(dataset[\"4. Department\"],dataset[\"Anxiety Label\"]))"
   ]
  },
  {
   "cell_type": "code",
   "execution_count": 25,
   "id": "e96bb0e5",
   "metadata": {},
   "outputs": [
    {
     "data": {
      "text/plain": [
       "Chi2ContingencyResult(statistic=40.851695049638764, pvalue=0.00018768395752255721, dof=14, expected_freq=array([[ 39.5147929 , 464.4852071 ],\n",
       "       [  1.56804734,  18.43195266],\n",
       "       [  1.09763314,  12.90236686],\n",
       "       [  4.93934911,  58.06065089],\n",
       "       [  0.86242604,  10.13757396],\n",
       "       [ 15.83727811, 186.16272189],\n",
       "       [ 12.70118343, 149.29881657],\n",
       "       [  3.29289941,  38.70710059],\n",
       "       [ 41.71005917, 490.28994083],\n",
       "       [ 21.09023669, 247.90976331],\n",
       "       [  6.82100592,  80.17899408],\n",
       "       [  3.92011834,  46.07988166],\n",
       "       [  1.80325444,  21.19674556],\n",
       "       [  2.43047337,  28.56952663],\n",
       "       [  1.4112426 ,  16.5887574 ]]))"
      ]
     },
     "execution_count": 25,
     "metadata": {},
     "output_type": "execute_result"
    }
   ],
   "source": [
    "chi2_contingency(pd.crosstab(dataset[\"3. University\"],dataset[\"Anxiety Label\"]))"
   ]
  },
  {
   "cell_type": "code",
   "execution_count": 26,
   "id": "0c8bd6ea",
   "metadata": {},
   "outputs": [
    {
     "data": {
      "text/plain": [
       "Chi2ContingencyResult(statistic=14.984476120930697, pvalue=0.004733523236222037, dof=4, expected_freq=array([[1.02236686e+02, 1.20176331e+03],\n",
       "       [5.42544379e+01, 6.37745562e+02],\n",
       "       [1.96005917e+00, 2.30399408e+01],\n",
       "       [2.35207101e-01, 2.76479290e+00],\n",
       "       [3.13609467e-01, 3.68639053e+00]]))"
      ]
     },
     "execution_count": 26,
     "metadata": {},
     "output_type": "execute_result"
    }
   ],
   "source": [
    "chi2_contingency(pd.crosstab(dataset[\"1. Age\"],dataset[\"Anxiety Label\"]))"
   ]
  },
  {
   "cell_type": "markdown",
   "id": "1fb20b8e",
   "metadata": {},
   "source": [
    "From the chi square test, we can say, only the Age, University, Gender is statistically significant (has p value less than 5%). "
   ]
  },
  {
   "cell_type": "code",
   "execution_count": null,
   "id": "8fbd3bfa",
   "metadata": {},
   "outputs": [],
   "source": []
  }
 ],
 "metadata": {
  "kernelspec": {
   "display_name": "Python 3 (ipykernel)",
   "language": "python",
   "name": "python3"
  },
  "language_info": {
   "codemirror_mode": {
    "name": "ipython",
    "version": 3
   },
   "file_extension": ".py",
   "mimetype": "text/x-python",
   "name": "python",
   "nbconvert_exporter": "python",
   "pygments_lexer": "ipython3",
   "version": "3.10.9"
  }
 },
 "nbformat": 4,
 "nbformat_minor": 5
}
