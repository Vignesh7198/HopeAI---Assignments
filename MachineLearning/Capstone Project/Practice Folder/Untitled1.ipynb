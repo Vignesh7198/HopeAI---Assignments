{
 "cells": [
  {
   "cell_type": "code",
   "execution_count": 51,
   "id": "ddbea9ec",
   "metadata": {},
   "outputs": [],
   "source": [
    "import pandas as pd\n",
    "import numpy as np"
   ]
  },
  {
   "cell_type": "code",
   "execution_count": 52,
   "id": "9a501b20",
   "metadata": {},
   "outputs": [],
   "source": [
    "dataset = pd.read_csv(\"Anxiety.csv\")"
   ]
  },
  {
   "cell_type": "code",
   "execution_count": 53,
   "id": "a93a74eb",
   "metadata": {},
   "outputs": [
    {
     "data": {
      "text/html": [
       "<div>\n",
       "<style scoped>\n",
       "    .dataframe tbody tr th:only-of-type {\n",
       "        vertical-align: middle;\n",
       "    }\n",
       "\n",
       "    .dataframe tbody tr th {\n",
       "        vertical-align: top;\n",
       "    }\n",
       "\n",
       "    .dataframe thead th {\n",
       "        text-align: right;\n",
       "    }\n",
       "</style>\n",
       "<table border=\"1\" class=\"dataframe\">\n",
       "  <thead>\n",
       "    <tr style=\"text-align: right;\">\n",
       "      <th></th>\n",
       "      <th>1. Age</th>\n",
       "      <th>2. Gender</th>\n",
       "      <th>3. University</th>\n",
       "      <th>4. Department</th>\n",
       "      <th>5. Academic Year</th>\n",
       "      <th>6. Current CGPA</th>\n",
       "      <th>7. Did you receive a waiver or scholarship at your university?</th>\n",
       "      <th>1. In a semester, how often you felt nervous, anxious or on edge due to academic pressure?</th>\n",
       "      <th>2. In a semester, how often have you been unable to stop worrying about your academic affairs?</th>\n",
       "      <th>3. In a semester, how often have you had trouble relaxing due to academic pressure?</th>\n",
       "      <th>4. In a semester, how often have you been easily annoyed or irritated because of academic pressure?</th>\n",
       "      <th>5. In a semester, how often have you worried too much about academic affairs?</th>\n",
       "      <th>6. In a semester, how often have you been so restless due to academic pressure that it is hard to sit still?</th>\n",
       "      <th>7. In a semester, how often have you felt afraid, as if something awful might happen?</th>\n",
       "      <th>Anxiety Value</th>\n",
       "      <th>Anxiety Label</th>\n",
       "    </tr>\n",
       "  </thead>\n",
       "  <tbody>\n",
       "    <tr>\n",
       "      <th>0</th>\n",
       "      <td>18-22</td>\n",
       "      <td>Female</td>\n",
       "      <td>Independent University, Bangladesh (IUB)</td>\n",
       "      <td>Engineering - CS / CSE / CSC / Similar to CS</td>\n",
       "      <td>Second Year or Equivalent</td>\n",
       "      <td>2.50 - 2.99</td>\n",
       "      <td>No</td>\n",
       "      <td>2</td>\n",
       "      <td>2</td>\n",
       "      <td>3</td>\n",
       "      <td>2</td>\n",
       "      <td>2</td>\n",
       "      <td>2</td>\n",
       "      <td>2</td>\n",
       "      <td>15</td>\n",
       "      <td>Severe Anxiety</td>\n",
       "    </tr>\n",
       "    <tr>\n",
       "      <th>1</th>\n",
       "      <td>18-22</td>\n",
       "      <td>Male</td>\n",
       "      <td>Independent University, Bangladesh (IUB)</td>\n",
       "      <td>Engineering - CS / CSE / CSC / Similar to CS</td>\n",
       "      <td>Third Year or Equivalent</td>\n",
       "      <td>3.00 - 3.39</td>\n",
       "      <td>No</td>\n",
       "      <td>1</td>\n",
       "      <td>2</td>\n",
       "      <td>2</td>\n",
       "      <td>1</td>\n",
       "      <td>1</td>\n",
       "      <td>3</td>\n",
       "      <td>2</td>\n",
       "      <td>12</td>\n",
       "      <td>Moderate Anxiety</td>\n",
       "    </tr>\n",
       "    <tr>\n",
       "      <th>2</th>\n",
       "      <td>18-22</td>\n",
       "      <td>Male</td>\n",
       "      <td>American International University Bangladesh (...</td>\n",
       "      <td>Engineering - CS / CSE / CSC / Similar to CS</td>\n",
       "      <td>Third Year or Equivalent</td>\n",
       "      <td>3.00 - 3.39</td>\n",
       "      <td>No</td>\n",
       "      <td>0</td>\n",
       "      <td>0</td>\n",
       "      <td>0</td>\n",
       "      <td>0</td>\n",
       "      <td>0</td>\n",
       "      <td>0</td>\n",
       "      <td>0</td>\n",
       "      <td>0</td>\n",
       "      <td>Minimal Anxiety</td>\n",
       "    </tr>\n",
       "    <tr>\n",
       "      <th>3</th>\n",
       "      <td>18-22</td>\n",
       "      <td>Male</td>\n",
       "      <td>American International University Bangladesh (...</td>\n",
       "      <td>Engineering - CS / CSE / CSC / Similar to CS</td>\n",
       "      <td>Third Year or Equivalent</td>\n",
       "      <td>3.00 - 3.39</td>\n",
       "      <td>No</td>\n",
       "      <td>2</td>\n",
       "      <td>1</td>\n",
       "      <td>1</td>\n",
       "      <td>1</td>\n",
       "      <td>2</td>\n",
       "      <td>1</td>\n",
       "      <td>2</td>\n",
       "      <td>10</td>\n",
       "      <td>Moderate Anxiety</td>\n",
       "    </tr>\n",
       "    <tr>\n",
       "      <th>4</th>\n",
       "      <td>18-22</td>\n",
       "      <td>Male</td>\n",
       "      <td>North South University (NSU)</td>\n",
       "      <td>Engineering - CS / CSE / CSC / Similar to CS</td>\n",
       "      <td>Second Year or Equivalent</td>\n",
       "      <td>2.50 - 2.99</td>\n",
       "      <td>No</td>\n",
       "      <td>3</td>\n",
       "      <td>0</td>\n",
       "      <td>3</td>\n",
       "      <td>3</td>\n",
       "      <td>1</td>\n",
       "      <td>1</td>\n",
       "      <td>3</td>\n",
       "      <td>14</td>\n",
       "      <td>Moderate Anxiety</td>\n",
       "    </tr>\n",
       "    <tr>\n",
       "      <th>...</th>\n",
       "      <td>...</td>\n",
       "      <td>...</td>\n",
       "      <td>...</td>\n",
       "      <td>...</td>\n",
       "      <td>...</td>\n",
       "      <td>...</td>\n",
       "      <td>...</td>\n",
       "      <td>...</td>\n",
       "      <td>...</td>\n",
       "      <td>...</td>\n",
       "      <td>...</td>\n",
       "      <td>...</td>\n",
       "      <td>...</td>\n",
       "      <td>...</td>\n",
       "      <td>...</td>\n",
       "      <td>...</td>\n",
       "    </tr>\n",
       "    <tr>\n",
       "      <th>2023</th>\n",
       "      <td>18-22</td>\n",
       "      <td>Male</td>\n",
       "      <td>Dhaka University (DU)</td>\n",
       "      <td>Other</td>\n",
       "      <td>Second Year or Equivalent</td>\n",
       "      <td>3.00 - 3.39</td>\n",
       "      <td>No</td>\n",
       "      <td>3</td>\n",
       "      <td>3</td>\n",
       "      <td>3</td>\n",
       "      <td>3</td>\n",
       "      <td>3</td>\n",
       "      <td>3</td>\n",
       "      <td>3</td>\n",
       "      <td>21</td>\n",
       "      <td>Severe Anxiety</td>\n",
       "    </tr>\n",
       "    <tr>\n",
       "      <th>2024</th>\n",
       "      <td>18-22</td>\n",
       "      <td>Female</td>\n",
       "      <td>Bangladesh Agricultural University (BAU)</td>\n",
       "      <td>Engineering - CS / CSE / CSC / Similar to CS</td>\n",
       "      <td>Third Year or Equivalent</td>\n",
       "      <td>3.00 - 3.39</td>\n",
       "      <td>No</td>\n",
       "      <td>3</td>\n",
       "      <td>0</td>\n",
       "      <td>3</td>\n",
       "      <td>3</td>\n",
       "      <td>3</td>\n",
       "      <td>3</td>\n",
       "      <td>3</td>\n",
       "      <td>18</td>\n",
       "      <td>Severe Anxiety</td>\n",
       "    </tr>\n",
       "    <tr>\n",
       "      <th>2025</th>\n",
       "      <td>18-22</td>\n",
       "      <td>Male</td>\n",
       "      <td>American International University Bangladesh (...</td>\n",
       "      <td>Engineering - CS / CSE / CSC / Similar to CS</td>\n",
       "      <td>Second Year or Equivalent</td>\n",
       "      <td>2.50 - 2.99</td>\n",
       "      <td>No</td>\n",
       "      <td>2</td>\n",
       "      <td>2</td>\n",
       "      <td>2</td>\n",
       "      <td>2</td>\n",
       "      <td>2</td>\n",
       "      <td>2</td>\n",
       "      <td>1</td>\n",
       "      <td>13</td>\n",
       "      <td>Moderate Anxiety</td>\n",
       "    </tr>\n",
       "    <tr>\n",
       "      <th>2026</th>\n",
       "      <td>23-26</td>\n",
       "      <td>Female</td>\n",
       "      <td>Dhaka University (DU)</td>\n",
       "      <td>Other</td>\n",
       "      <td>Third Year or Equivalent</td>\n",
       "      <td>3.40 - 3.79</td>\n",
       "      <td>No</td>\n",
       "      <td>3</td>\n",
       "      <td>3</td>\n",
       "      <td>3</td>\n",
       "      <td>3</td>\n",
       "      <td>3</td>\n",
       "      <td>3</td>\n",
       "      <td>3</td>\n",
       "      <td>21</td>\n",
       "      <td>Severe Anxiety</td>\n",
       "    </tr>\n",
       "    <tr>\n",
       "      <th>2027</th>\n",
       "      <td>18-22</td>\n",
       "      <td>Male</td>\n",
       "      <td>Independent University, Bangladesh (IUB)</td>\n",
       "      <td>Business and Entrepreneurship Studies</td>\n",
       "      <td>Second Year or Equivalent</td>\n",
       "      <td>2.50 - 2.99</td>\n",
       "      <td>No</td>\n",
       "      <td>2</td>\n",
       "      <td>2</td>\n",
       "      <td>2</td>\n",
       "      <td>2</td>\n",
       "      <td>2</td>\n",
       "      <td>1</td>\n",
       "      <td>2</td>\n",
       "      <td>13</td>\n",
       "      <td>Moderate Anxiety</td>\n",
       "    </tr>\n",
       "  </tbody>\n",
       "</table>\n",
       "<p>2028 rows × 16 columns</p>\n",
       "</div>"
      ],
      "text/plain": [
       "     1. Age 2. Gender                                      3. University  \\\n",
       "0     18-22    Female           Independent University, Bangladesh (IUB)   \n",
       "1     18-22      Male           Independent University, Bangladesh (IUB)   \n",
       "2     18-22      Male  American International University Bangladesh (...   \n",
       "3     18-22      Male  American International University Bangladesh (...   \n",
       "4     18-22      Male                       North South University (NSU)   \n",
       "...     ...       ...                                                ...   \n",
       "2023  18-22      Male                              Dhaka University (DU)   \n",
       "2024  18-22    Female           Bangladesh Agricultural University (BAU)   \n",
       "2025  18-22      Male  American International University Bangladesh (...   \n",
       "2026  23-26    Female                              Dhaka University (DU)   \n",
       "2027  18-22      Male           Independent University, Bangladesh (IUB)   \n",
       "\n",
       "                                     4. Department           5. Academic Year  \\\n",
       "0     Engineering - CS / CSE / CSC / Similar to CS  Second Year or Equivalent   \n",
       "1     Engineering - CS / CSE / CSC / Similar to CS   Third Year or Equivalent   \n",
       "2     Engineering - CS / CSE / CSC / Similar to CS   Third Year or Equivalent   \n",
       "3     Engineering - CS / CSE / CSC / Similar to CS   Third Year or Equivalent   \n",
       "4     Engineering - CS / CSE / CSC / Similar to CS  Second Year or Equivalent   \n",
       "...                                            ...                        ...   \n",
       "2023                                         Other  Second Year or Equivalent   \n",
       "2024  Engineering - CS / CSE / CSC / Similar to CS   Third Year or Equivalent   \n",
       "2025  Engineering - CS / CSE / CSC / Similar to CS  Second Year or Equivalent   \n",
       "2026                                         Other   Third Year or Equivalent   \n",
       "2027         Business and Entrepreneurship Studies  Second Year or Equivalent   \n",
       "\n",
       "     6. Current CGPA  \\\n",
       "0        2.50 - 2.99   \n",
       "1        3.00 - 3.39   \n",
       "2        3.00 - 3.39   \n",
       "3        3.00 - 3.39   \n",
       "4        2.50 - 2.99   \n",
       "...              ...   \n",
       "2023     3.00 - 3.39   \n",
       "2024     3.00 - 3.39   \n",
       "2025     2.50 - 2.99   \n",
       "2026     3.40 - 3.79   \n",
       "2027     2.50 - 2.99   \n",
       "\n",
       "     7. Did you receive a waiver or scholarship at your university?  \\\n",
       "0                                                    No               \n",
       "1                                                    No               \n",
       "2                                                    No               \n",
       "3                                                    No               \n",
       "4                                                    No               \n",
       "...                                                 ...               \n",
       "2023                                                 No               \n",
       "2024                                                 No               \n",
       "2025                                                 No               \n",
       "2026                                                 No               \n",
       "2027                                                 No               \n",
       "\n",
       "      1. In a semester, how often you felt nervous, anxious or on edge due to academic pressure?   \\\n",
       "0                                                     2                                             \n",
       "1                                                     1                                             \n",
       "2                                                     0                                             \n",
       "3                                                     2                                             \n",
       "4                                                     3                                             \n",
       "...                                                 ...                                             \n",
       "2023                                                  3                                             \n",
       "2024                                                  3                                             \n",
       "2025                                                  2                                             \n",
       "2026                                                  3                                             \n",
       "2027                                                  2                                             \n",
       "\n",
       "      2. In a semester, how often have you been unable to stop worrying about your academic affairs?   \\\n",
       "0                                                     2                                                 \n",
       "1                                                     2                                                 \n",
       "2                                                     0                                                 \n",
       "3                                                     1                                                 \n",
       "4                                                     0                                                 \n",
       "...                                                 ...                                                 \n",
       "2023                                                  3                                                 \n",
       "2024                                                  0                                                 \n",
       "2025                                                  2                                                 \n",
       "2026                                                  3                                                 \n",
       "2027                                                  2                                                 \n",
       "\n",
       "      3. In a semester, how often have you had trouble relaxing due to academic pressure?   \\\n",
       "0                                                     3                                      \n",
       "1                                                     2                                      \n",
       "2                                                     0                                      \n",
       "3                                                     1                                      \n",
       "4                                                     3                                      \n",
       "...                                                 ...                                      \n",
       "2023                                                  3                                      \n",
       "2024                                                  3                                      \n",
       "2025                                                  2                                      \n",
       "2026                                                  3                                      \n",
       "2027                                                  2                                      \n",
       "\n",
       "      4. In a semester, how often have you been easily annoyed or irritated because of academic pressure?  \\\n",
       "0                                                     2                                                     \n",
       "1                                                     1                                                     \n",
       "2                                                     0                                                     \n",
       "3                                                     1                                                     \n",
       "4                                                     3                                                     \n",
       "...                                                 ...                                                     \n",
       "2023                                                  3                                                     \n",
       "2024                                                  3                                                     \n",
       "2025                                                  2                                                     \n",
       "2026                                                  3                                                     \n",
       "2027                                                  2                                                     \n",
       "\n",
       "      5. In a semester, how often have you worried too much about academic affairs?   \\\n",
       "0                                                     2                                \n",
       "1                                                     1                                \n",
       "2                                                     0                                \n",
       "3                                                     2                                \n",
       "4                                                     1                                \n",
       "...                                                 ...                                \n",
       "2023                                                  3                                \n",
       "2024                                                  3                                \n",
       "2025                                                  2                                \n",
       "2026                                                  3                                \n",
       "2027                                                  2                                \n",
       "\n",
       "      6. In a semester, how often have you been so restless due to academic pressure that it is hard to sit still?  \\\n",
       "0                                                     2                                                              \n",
       "1                                                     3                                                              \n",
       "2                                                     0                                                              \n",
       "3                                                     1                                                              \n",
       "4                                                     1                                                              \n",
       "...                                                 ...                                                              \n",
       "2023                                                  3                                                              \n",
       "2024                                                  3                                                              \n",
       "2025                                                  2                                                              \n",
       "2026                                                  3                                                              \n",
       "2027                                                  1                                                              \n",
       "\n",
       "      7. In a semester, how often have you felt afraid, as if something awful might happen?  \\\n",
       "0                                                     2                                       \n",
       "1                                                     2                                       \n",
       "2                                                     0                                       \n",
       "3                                                     2                                       \n",
       "4                                                     3                                       \n",
       "...                                                 ...                                       \n",
       "2023                                                  3                                       \n",
       "2024                                                  3                                       \n",
       "2025                                                  1                                       \n",
       "2026                                                  3                                       \n",
       "2027                                                  2                                       \n",
       "\n",
       "      Anxiety Value     Anxiety Label  \n",
       "0                15    Severe Anxiety  \n",
       "1                12  Moderate Anxiety  \n",
       "2                 0   Minimal Anxiety  \n",
       "3                10  Moderate Anxiety  \n",
       "4                14  Moderate Anxiety  \n",
       "...             ...               ...  \n",
       "2023             21    Severe Anxiety  \n",
       "2024             18    Severe Anxiety  \n",
       "2025             13  Moderate Anxiety  \n",
       "2026             21    Severe Anxiety  \n",
       "2027             13  Moderate Anxiety  \n",
       "\n",
       "[2028 rows x 16 columns]"
      ]
     },
     "execution_count": 53,
     "metadata": {},
     "output_type": "execute_result"
    }
   ],
   "source": [
    "dataset"
   ]
  },
  {
   "cell_type": "code",
   "execution_count": 54,
   "id": "600e8a47",
   "metadata": {},
   "outputs": [],
   "source": [
    "x = dataset.iloc[:,0:7]\n",
    "y = dataset.iloc[:,-1]"
   ]
  },
  {
   "cell_type": "code",
   "execution_count": 55,
   "id": "6cc3a831",
   "metadata": {},
   "outputs": [],
   "source": [
    "y = y.map(lambda y: \"Less Anxious\" if y==\"Minimal Anxiety\" else \"More Anxious\");"
   ]
  },
  {
   "cell_type": "code",
   "execution_count": 56,
   "id": "5a1c8d8d",
   "metadata": {},
   "outputs": [
    {
     "data": {
      "text/plain": [
       "More Anxious    1869\n",
       "Less Anxious     159\n",
       "Name: Anxiety Label, dtype: int64"
      ]
     },
     "execution_count": 56,
     "metadata": {},
     "output_type": "execute_result"
    }
   ],
   "source": [
    "y.value_counts()"
   ]
  },
  {
   "cell_type": "code",
   "execution_count": null,
   "id": "bf20834e",
   "metadata": {},
   "outputs": [],
   "source": []
  },
  {
   "cell_type": "code",
   "execution_count": 16,
   "id": "2fde48bd",
   "metadata": {},
   "outputs": [
    {
     "data": {
      "text/plain": [
       "11.754716981132075"
      ]
     },
     "execution_count": 16,
     "metadata": {},
     "output_type": "execute_result"
    }
   ],
   "source": [
    "class_ratio = y.value_counts()[0] / y.value_counts()[1]\n",
    "y.value_counts()[0],y.value_counts()[1]\n",
    "class_ratio"
   ]
  },
  {
   "cell_type": "code",
   "execution_count": 60,
   "id": "ac9eee66",
   "metadata": {},
   "outputs": [],
   "source": [
    "x_encoded = pd.get_dummies(x, drop_first=True,dtype=int)\n",
    "y_encoded= pd.get_dummies(y,drop_first=True,dtype=int)\n",
    "x_encoded\n",
    "columns_for_prediction = x_encoded.columns\n",
    "from imblearn.over_sampling import SMOTE \n",
    "sm = SMOTE(random_state=42)\n",
    "x_resampled, y_resampled = sm.fit_resample(x_encoded, y_encoded)\n"
   ]
  },
  {
   "cell_type": "code",
   "execution_count": null,
   "id": "c1a0ff65",
   "metadata": {},
   "outputs": [],
   "source": []
  },
  {
   "cell_type": "code",
   "execution_count": 61,
   "id": "39683ab8",
   "metadata": {},
   "outputs": [],
   "source": [
    "from sklearn.model_selection import train_test_split\n",
    "\n",
    "x_train, x_test, y_train, y_test = train_test_split(x_resampled,y_resampled,test_size=0.3,random_state=0)"
   ]
  },
  {
   "cell_type": "code",
   "execution_count": 62,
   "id": "df645dae",
   "metadata": {},
   "outputs": [
    {
     "data": {
      "text/plain": [
       "More Anxious\n",
       "0               1315\n",
       "1               1301\n",
       "dtype: int64"
      ]
     },
     "execution_count": 62,
     "metadata": {},
     "output_type": "execute_result"
    }
   ],
   "source": [
    "y_train.value_counts()"
   ]
  },
  {
   "cell_type": "code",
   "execution_count": 63,
   "id": "70ec0dee",
   "metadata": {},
   "outputs": [
    {
     "name": "stderr",
     "output_type": "stream",
     "text": [
      "C:\\Users\\Vignesh S\\AppData\\Local\\Temp\\ipykernel_7112\\2578238666.py:3: DataConversionWarning: A column-vector y was passed when a 1d array was expected. Please change the shape of y to (n_samples,), for example using ravel().\n",
      "  random_forest.fit(x_train,y_train)\n"
     ]
    },
    {
     "data": {
      "text/html": [
       "<style>#sk-container-id-4 {color: black;background-color: white;}#sk-container-id-4 pre{padding: 0;}#sk-container-id-4 div.sk-toggleable {background-color: white;}#sk-container-id-4 label.sk-toggleable__label {cursor: pointer;display: block;width: 100%;margin-bottom: 0;padding: 0.3em;box-sizing: border-box;text-align: center;}#sk-container-id-4 label.sk-toggleable__label-arrow:before {content: \"▸\";float: left;margin-right: 0.25em;color: #696969;}#sk-container-id-4 label.sk-toggleable__label-arrow:hover:before {color: black;}#sk-container-id-4 div.sk-estimator:hover label.sk-toggleable__label-arrow:before {color: black;}#sk-container-id-4 div.sk-toggleable__content {max-height: 0;max-width: 0;overflow: hidden;text-align: left;background-color: #f0f8ff;}#sk-container-id-4 div.sk-toggleable__content pre {margin: 0.2em;color: black;border-radius: 0.25em;background-color: #f0f8ff;}#sk-container-id-4 input.sk-toggleable__control:checked~div.sk-toggleable__content {max-height: 200px;max-width: 100%;overflow: auto;}#sk-container-id-4 input.sk-toggleable__control:checked~label.sk-toggleable__label-arrow:before {content: \"▾\";}#sk-container-id-4 div.sk-estimator input.sk-toggleable__control:checked~label.sk-toggleable__label {background-color: #d4ebff;}#sk-container-id-4 div.sk-label input.sk-toggleable__control:checked~label.sk-toggleable__label {background-color: #d4ebff;}#sk-container-id-4 input.sk-hidden--visually {border: 0;clip: rect(1px 1px 1px 1px);clip: rect(1px, 1px, 1px, 1px);height: 1px;margin: -1px;overflow: hidden;padding: 0;position: absolute;width: 1px;}#sk-container-id-4 div.sk-estimator {font-family: monospace;background-color: #f0f8ff;border: 1px dotted black;border-radius: 0.25em;box-sizing: border-box;margin-bottom: 0.5em;}#sk-container-id-4 div.sk-estimator:hover {background-color: #d4ebff;}#sk-container-id-4 div.sk-parallel-item::after {content: \"\";width: 100%;border-bottom: 1px solid gray;flex-grow: 1;}#sk-container-id-4 div.sk-label:hover label.sk-toggleable__label {background-color: #d4ebff;}#sk-container-id-4 div.sk-serial::before {content: \"\";position: absolute;border-left: 1px solid gray;box-sizing: border-box;top: 0;bottom: 0;left: 50%;z-index: 0;}#sk-container-id-4 div.sk-serial {display: flex;flex-direction: column;align-items: center;background-color: white;padding-right: 0.2em;padding-left: 0.2em;position: relative;}#sk-container-id-4 div.sk-item {position: relative;z-index: 1;}#sk-container-id-4 div.sk-parallel {display: flex;align-items: stretch;justify-content: center;background-color: white;position: relative;}#sk-container-id-4 div.sk-item::before, #sk-container-id-4 div.sk-parallel-item::before {content: \"\";position: absolute;border-left: 1px solid gray;box-sizing: border-box;top: 0;bottom: 0;left: 50%;z-index: -1;}#sk-container-id-4 div.sk-parallel-item {display: flex;flex-direction: column;z-index: 1;position: relative;background-color: white;}#sk-container-id-4 div.sk-parallel-item:first-child::after {align-self: flex-end;width: 50%;}#sk-container-id-4 div.sk-parallel-item:last-child::after {align-self: flex-start;width: 50%;}#sk-container-id-4 div.sk-parallel-item:only-child::after {width: 0;}#sk-container-id-4 div.sk-dashed-wrapped {border: 1px dashed gray;margin: 0 0.4em 0.5em 0.4em;box-sizing: border-box;padding-bottom: 0.4em;background-color: white;}#sk-container-id-4 div.sk-label label {font-family: monospace;font-weight: bold;display: inline-block;line-height: 1.2em;}#sk-container-id-4 div.sk-label-container {text-align: center;}#sk-container-id-4 div.sk-container {/* jupyter's `normalize.less` sets `[hidden] { display: none; }` but bootstrap.min.css set `[hidden] { display: none !important; }` so we also need the `!important` here to be able to override the default hidden behavior on the sphinx rendered scikit-learn.org. See: https://github.com/scikit-learn/scikit-learn/issues/21755 */display: inline-block !important;position: relative;}#sk-container-id-4 div.sk-text-repr-fallback {display: none;}</style><div id=\"sk-container-id-4\" class=\"sk-top-container\"><div class=\"sk-text-repr-fallback\"><pre>RandomForestClassifier(class_weight=&#x27;balanced&#x27;, n_estimators=10, random_state=0)</pre><b>In a Jupyter environment, please rerun this cell to show the HTML representation or trust the notebook. <br />On GitHub, the HTML representation is unable to render, please try loading this page with nbviewer.org.</b></div><div class=\"sk-container\" hidden><div class=\"sk-item\"><div class=\"sk-estimator sk-toggleable\"><input class=\"sk-toggleable__control sk-hidden--visually\" id=\"sk-estimator-id-6\" type=\"checkbox\" checked><label for=\"sk-estimator-id-6\" class=\"sk-toggleable__label sk-toggleable__label-arrow\">RandomForestClassifier</label><div class=\"sk-toggleable__content\"><pre>RandomForestClassifier(class_weight=&#x27;balanced&#x27;, n_estimators=10, random_state=0)</pre></div></div></div></div></div>"
      ],
      "text/plain": [
       "RandomForestClassifier(class_weight='balanced', n_estimators=10, random_state=0)"
      ]
     },
     "execution_count": 63,
     "metadata": {},
     "output_type": "execute_result"
    }
   ],
   "source": [
    "from sklearn.ensemble import RandomForestClassifier\n",
    "random_forest = RandomForestClassifier(n_estimators=10,criterion=\"gini\",random_state=0,class_weight='balanced')\n",
    "random_forest.fit(x_train,y_train)"
   ]
  },
  {
   "cell_type": "code",
   "execution_count": 64,
   "id": "38c41ef5",
   "metadata": {},
   "outputs": [],
   "source": [
    "top_features = pd.Series(random_forest.feature_importances_,index=x_train.columns).sort_values(ascending=False)"
   ]
  },
  {
   "cell_type": "code",
   "execution_count": 65,
   "id": "016f2fc1",
   "metadata": {},
   "outputs": [],
   "source": [
    "y_predict = random_forest.predict(x_test)"
   ]
  },
  {
   "cell_type": "code",
   "execution_count": 66,
   "id": "599968fd",
   "metadata": {},
   "outputs": [],
   "source": [
    "from sklearn.metrics import confusion_matrix\n",
    "cm = confusion_matrix(y_test,y_predict)"
   ]
  },
  {
   "cell_type": "code",
   "execution_count": 67,
   "id": "2879ec03",
   "metadata": {},
   "outputs": [
    {
     "data": {
      "text/plain": [
       "array([[518,  36],\n",
       "       [146, 422]], dtype=int64)"
      ]
     },
     "execution_count": 67,
     "metadata": {},
     "output_type": "execute_result"
    }
   ],
   "source": [
    "cm"
   ]
  },
  {
   "cell_type": "code",
   "execution_count": 68,
   "id": "6f10c9f3",
   "metadata": {},
   "outputs": [
    {
     "name": "stdout",
     "output_type": "stream",
     "text": [
      "              precision    recall  f1-score   support\n",
      "\n",
      "           0       0.78      0.94      0.85       554\n",
      "           1       0.92      0.74      0.82       568\n",
      "\n",
      "    accuracy                           0.84      1122\n",
      "   macro avg       0.85      0.84      0.84      1122\n",
      "weighted avg       0.85      0.84      0.84      1122\n",
      "\n"
     ]
    }
   ],
   "source": [
    "from sklearn.metrics import classification_report\n",
    "report = classification_report(y_test,y_predict)\n",
    "print(report)"
   ]
  },
  {
   "cell_type": "code",
   "execution_count": 69,
   "id": "5c84f8b4",
   "metadata": {},
   "outputs": [],
   "source": [
    "\n",
    "from sklearn.model_selection import GridSearchCV\n",
    "from sklearn.ensemble import RandomForestClassifier\n",
    "\n",
    "estimator = {\n",
    "    'criterion':['gini', 'entropy', 'log_loss'],\n",
    "    'max_features':['sqrt', 'log2', None],\n",
    "    'n_estimators':[50,100]\n",
    "\n",
    "}\n",
    "\n",
    "grid = GridSearchCV(RandomForestClassifier(),estimator,verbose=3,refit=True,n_jobs=-1)"
   ]
  },
  {
   "cell_type": "code",
   "execution_count": 70,
   "id": "772f2b9c",
   "metadata": {},
   "outputs": [
    {
     "name": "stdout",
     "output_type": "stream",
     "text": [
      "Fitting 5 folds for each of 18 candidates, totalling 90 fits\n"
     ]
    },
    {
     "name": "stderr",
     "output_type": "stream",
     "text": [
      "C:\\ProgramData\\anaconda3\\lib\\site-packages\\sklearn\\model_selection\\_search.py:909: DataConversionWarning: A column-vector y was passed when a 1d array was expected. Please change the shape of y to (n_samples,), for example using ravel().\n",
      "  self.best_estimator_.fit(X, y, **fit_params)\n"
     ]
    }
   ],
   "source": [
    "re = grid.fit(x_train,y_train)"
   ]
  },
  {
   "cell_type": "code",
   "execution_count": 71,
   "id": "5941850b",
   "metadata": {},
   "outputs": [
    {
     "data": {
      "text/html": [
       "<style>#sk-container-id-5 {color: black;background-color: white;}#sk-container-id-5 pre{padding: 0;}#sk-container-id-5 div.sk-toggleable {background-color: white;}#sk-container-id-5 label.sk-toggleable__label {cursor: pointer;display: block;width: 100%;margin-bottom: 0;padding: 0.3em;box-sizing: border-box;text-align: center;}#sk-container-id-5 label.sk-toggleable__label-arrow:before {content: \"▸\";float: left;margin-right: 0.25em;color: #696969;}#sk-container-id-5 label.sk-toggleable__label-arrow:hover:before {color: black;}#sk-container-id-5 div.sk-estimator:hover label.sk-toggleable__label-arrow:before {color: black;}#sk-container-id-5 div.sk-toggleable__content {max-height: 0;max-width: 0;overflow: hidden;text-align: left;background-color: #f0f8ff;}#sk-container-id-5 div.sk-toggleable__content pre {margin: 0.2em;color: black;border-radius: 0.25em;background-color: #f0f8ff;}#sk-container-id-5 input.sk-toggleable__control:checked~div.sk-toggleable__content {max-height: 200px;max-width: 100%;overflow: auto;}#sk-container-id-5 input.sk-toggleable__control:checked~label.sk-toggleable__label-arrow:before {content: \"▾\";}#sk-container-id-5 div.sk-estimator input.sk-toggleable__control:checked~label.sk-toggleable__label {background-color: #d4ebff;}#sk-container-id-5 div.sk-label input.sk-toggleable__control:checked~label.sk-toggleable__label {background-color: #d4ebff;}#sk-container-id-5 input.sk-hidden--visually {border: 0;clip: rect(1px 1px 1px 1px);clip: rect(1px, 1px, 1px, 1px);height: 1px;margin: -1px;overflow: hidden;padding: 0;position: absolute;width: 1px;}#sk-container-id-5 div.sk-estimator {font-family: monospace;background-color: #f0f8ff;border: 1px dotted black;border-radius: 0.25em;box-sizing: border-box;margin-bottom: 0.5em;}#sk-container-id-5 div.sk-estimator:hover {background-color: #d4ebff;}#sk-container-id-5 div.sk-parallel-item::after {content: \"\";width: 100%;border-bottom: 1px solid gray;flex-grow: 1;}#sk-container-id-5 div.sk-label:hover label.sk-toggleable__label {background-color: #d4ebff;}#sk-container-id-5 div.sk-serial::before {content: \"\";position: absolute;border-left: 1px solid gray;box-sizing: border-box;top: 0;bottom: 0;left: 50%;z-index: 0;}#sk-container-id-5 div.sk-serial {display: flex;flex-direction: column;align-items: center;background-color: white;padding-right: 0.2em;padding-left: 0.2em;position: relative;}#sk-container-id-5 div.sk-item {position: relative;z-index: 1;}#sk-container-id-5 div.sk-parallel {display: flex;align-items: stretch;justify-content: center;background-color: white;position: relative;}#sk-container-id-5 div.sk-item::before, #sk-container-id-5 div.sk-parallel-item::before {content: \"\";position: absolute;border-left: 1px solid gray;box-sizing: border-box;top: 0;bottom: 0;left: 50%;z-index: -1;}#sk-container-id-5 div.sk-parallel-item {display: flex;flex-direction: column;z-index: 1;position: relative;background-color: white;}#sk-container-id-5 div.sk-parallel-item:first-child::after {align-self: flex-end;width: 50%;}#sk-container-id-5 div.sk-parallel-item:last-child::after {align-self: flex-start;width: 50%;}#sk-container-id-5 div.sk-parallel-item:only-child::after {width: 0;}#sk-container-id-5 div.sk-dashed-wrapped {border: 1px dashed gray;margin: 0 0.4em 0.5em 0.4em;box-sizing: border-box;padding-bottom: 0.4em;background-color: white;}#sk-container-id-5 div.sk-label label {font-family: monospace;font-weight: bold;display: inline-block;line-height: 1.2em;}#sk-container-id-5 div.sk-label-container {text-align: center;}#sk-container-id-5 div.sk-container {/* jupyter's `normalize.less` sets `[hidden] { display: none; }` but bootstrap.min.css set `[hidden] { display: none !important; }` so we also need the `!important` here to be able to override the default hidden behavior on the sphinx rendered scikit-learn.org. See: https://github.com/scikit-learn/scikit-learn/issues/21755 */display: inline-block !important;position: relative;}#sk-container-id-5 div.sk-text-repr-fallback {display: none;}</style><div id=\"sk-container-id-5\" class=\"sk-top-container\"><div class=\"sk-text-repr-fallback\"><pre>GridSearchCV(estimator=RandomForestClassifier(), n_jobs=-1,\n",
       "             param_grid={&#x27;criterion&#x27;: [&#x27;gini&#x27;, &#x27;entropy&#x27;, &#x27;log_loss&#x27;],\n",
       "                         &#x27;max_features&#x27;: [&#x27;sqrt&#x27;, &#x27;log2&#x27;, None],\n",
       "                         &#x27;n_estimators&#x27;: [50, 100]},\n",
       "             verbose=3)</pre><b>In a Jupyter environment, please rerun this cell to show the HTML representation or trust the notebook. <br />On GitHub, the HTML representation is unable to render, please try loading this page with nbviewer.org.</b></div><div class=\"sk-container\" hidden><div class=\"sk-item sk-dashed-wrapped\"><div class=\"sk-label-container\"><div class=\"sk-label sk-toggleable\"><input class=\"sk-toggleable__control sk-hidden--visually\" id=\"sk-estimator-id-7\" type=\"checkbox\" ><label for=\"sk-estimator-id-7\" class=\"sk-toggleable__label sk-toggleable__label-arrow\">GridSearchCV</label><div class=\"sk-toggleable__content\"><pre>GridSearchCV(estimator=RandomForestClassifier(), n_jobs=-1,\n",
       "             param_grid={&#x27;criterion&#x27;: [&#x27;gini&#x27;, &#x27;entropy&#x27;, &#x27;log_loss&#x27;],\n",
       "                         &#x27;max_features&#x27;: [&#x27;sqrt&#x27;, &#x27;log2&#x27;, None],\n",
       "                         &#x27;n_estimators&#x27;: [50, 100]},\n",
       "             verbose=3)</pre></div></div></div><div class=\"sk-parallel\"><div class=\"sk-parallel-item\"><div class=\"sk-item\"><div class=\"sk-label-container\"><div class=\"sk-label sk-toggleable\"><input class=\"sk-toggleable__control sk-hidden--visually\" id=\"sk-estimator-id-8\" type=\"checkbox\" ><label for=\"sk-estimator-id-8\" class=\"sk-toggleable__label sk-toggleable__label-arrow\">estimator: RandomForestClassifier</label><div class=\"sk-toggleable__content\"><pre>RandomForestClassifier()</pre></div></div></div><div class=\"sk-serial\"><div class=\"sk-item\"><div class=\"sk-estimator sk-toggleable\"><input class=\"sk-toggleable__control sk-hidden--visually\" id=\"sk-estimator-id-9\" type=\"checkbox\" ><label for=\"sk-estimator-id-9\" class=\"sk-toggleable__label sk-toggleable__label-arrow\">RandomForestClassifier</label><div class=\"sk-toggleable__content\"><pre>RandomForestClassifier()</pre></div></div></div></div></div></div></div></div></div></div>"
      ],
      "text/plain": [
       "GridSearchCV(estimator=RandomForestClassifier(), n_jobs=-1,\n",
       "             param_grid={'criterion': ['gini', 'entropy', 'log_loss'],\n",
       "                         'max_features': ['sqrt', 'log2', None],\n",
       "                         'n_estimators': [50, 100]},\n",
       "             verbose=3)"
      ]
     },
     "execution_count": 71,
     "metadata": {},
     "output_type": "execute_result"
    }
   ],
   "source": [
    "re"
   ]
  },
  {
   "cell_type": "code",
   "execution_count": 72,
   "id": "a9b82681",
   "metadata": {},
   "outputs": [],
   "source": [
    "table = pd.DataFrame.from_dict(re.cv_results_)\n"
   ]
  },
  {
   "cell_type": "code",
   "execution_count": 73,
   "id": "a351b57f",
   "metadata": {},
   "outputs": [
    {
     "name": "stdout",
     "output_type": "stream",
     "text": [
      "BEST PARAMETERS: {'criterion': 'log_loss', 'max_features': 'log2', 'n_estimators': 50}\n"
     ]
    }
   ],
   "source": [
    "print(f'BEST PARAMETERS: {grid.best_params_}')"
   ]
  },
  {
   "cell_type": "code",
   "execution_count": 74,
   "id": "d1f0ea99",
   "metadata": {},
   "outputs": [
    {
     "name": "stdout",
     "output_type": "stream",
     "text": [
      "Enter your Age: 27\n",
      "Gender (male/female/m/f): m\n",
      "Enter: 1 for Independent University, Bangladesh (IUB)\n",
      "Enter: 2 for American International University Bangladesh (AIUB)\n",
      "Enter: 3 for North South University (NSU)\n",
      "Enter: 4 for Islamic University of Technology (IUT)\n",
      "Enter: 5 for Patuakhali Science and Technology University\n",
      "Enter: 6 for Rajshahi University of Engineering and Technology (RUET)\n",
      "Enter: 7 for Dhaka University (DU)\n",
      "Enter: 8 for Bangladesh University of Engineering and Technology (BUET)\n",
      "Enter: 9 for Dhaka University of Engineering and Technology (DUET)\n",
      "Enter: 10 for United International University (UIU)\n",
      "Enter: 11 for East West University (EWU)\n",
      "Enter: 12 for BRAC University\n",
      "Enter: 13 for Bangladesh Agricultural University (BAU)\n",
      "Enter: 14 for Rajshahi University (RU)\n",
      "Enter: 15 for Daffodil University\n",
      "Enter Here:2\n",
      "Enter: 1 for Engineering - CS / CSE / CSC / Similar to CS\n",
      "Enter: 2 for Engineering - EEE/ ECE / Similar to EEE\n",
      "Enter: 3 for Other\n",
      "Enter: 4 for Business and Entrepreneurship Studies\n",
      "Enter: 5 for Environmental and Life Sciences\n",
      "Enter: 6 for Engineering - Mechanical Engineering / Similar to ME\n",
      "Enter: 7 for Engineering - Civil Engineering / Similar to CE\n",
      "Enter: 8 for Biological Sciences\n",
      "Enter: 9 for Engineering - Other\n",
      "Enter: 10 for Liberal Arts and Social Sciences\n",
      "Enter: 11 for Law and Human Rights\n",
      "Enter: 12 for Pharmacy and Public Health\n",
      "Enter Here:2\n",
      "Enter: 1 for Second Year or Equivalent\n",
      "Enter: 2 for Third Year or Equivalent\n",
      "Enter: 3 for Other\n",
      "Enter: 4 for First Year or Equivalent\n",
      "Enter: 5 for Fourth Year or Equivalent\n",
      "Enter Here:2\n",
      "Enter: 1 for 2.50 - 2.99\n",
      "Enter: 2 for 3.00 - 3.39\n",
      "Enter: 3 for 3.40 - 3.79\n",
      "Enter: 4 for 3.80 - 4.00\n",
      "Enter: 5 for Below 2.50\n",
      "Enter: 6 for Other\n",
      "Enter Here:2\n",
      "Enter: 1 for No\n",
      "Enter: 2 for Yes\n",
      "Enter Here:2\n",
      "You're Age:27, You are grouped under the age group: 27-30\n",
      "You're Gender:Male\n",
      "You're Selected University:American International University Bangladesh (AIUB)\n",
      "You're Selected Department:Engineering - EEE/ ECE / Similar to EEE\n",
      "You're Selected Academic Year:Third Year or Equivalent\n",
      "You're CGPA:1, You are grouped under the CGPA group: 3.00 - 3.39\n",
      "You're Scholarship Status:Yes\n"
     ]
    }
   ],
   "source": [
    "# university = int(input(\"Enter:\\n1 for IUB\\n2 for AIUB\\n3 for NSU\\n4 for IUT\\n5 for PSTU\\n6 for RUET\\n7 for DU\\n8 for BUET\\n9 for DUET\\n10 for UIU\\n11 for EWU\\n12 for BRAC\\n13 for BAU\\n14 for RU\\n15 for Daffodil\\n\"))-1\n",
    "entered_age = int(input(\"Enter your Age: \"))\n",
    "age=\"\"\n",
    "if(entered_age<18):\n",
    "    age=\"Below 18\"\n",
    "elif entered_age<=22:\n",
    "    age=\"18-22\"\n",
    "elif entered_age<=26:\n",
    "    age=\"23-26\"\n",
    "elif entered_age<=30:\n",
    "    age=\"27-30\"\n",
    "else:\n",
    "    age=\"Above 30\"\n",
    "    \n",
    "entered_gender = input(\"Gender (male/female/m/f): \").lower()[0:1]\n",
    "\n",
    "if \"m\" in entered_gender:\n",
    "    gender=\"Male\"\n",
    "elif \"f\" in entered_gender:\n",
    "    gender=\"Female\"\n",
    "else:\n",
    "    gender=\"Prefer not to say\"\n",
    "    \n",
    "for i,value in enumerate(x[\"3. University\"].unique()):\n",
    "    \n",
    "    print(f\"Enter: {i+1} for {value}\")\n",
    "    \n",
    "university = int(input(\"Enter Here:\"))-1\n",
    "    \n",
    "selected_university = \"\"\n",
    "for i,value in enumerate(x[\"3. University\"].unique()):\n",
    "    if(university==i):\n",
    "        selected_university=value\n",
    "        break;\n",
    "\n",
    "        \n",
    "for i,value in enumerate(x[\"4. Department\"].unique()):\n",
    "    \n",
    "    print(f\"Enter: {i+1} for {value}\")\n",
    "    \n",
    "department = int(input(\"Enter Here:\"))-1\n",
    "    \n",
    "selected_department = \"\"\n",
    "for i,value in enumerate(x[\"4. Department\"].unique()):\n",
    "    if(department==i):\n",
    "        selected_department=value\n",
    "        break;\n",
    "    \n",
    "for i,value in enumerate(x[\"5. Academic Year\"].unique()):\n",
    "    \n",
    "    print(f\"Enter: {i+1} for {value}\")\n",
    "    \n",
    "academic_year = int(input(\"Enter Here:\"))-1\n",
    "    \n",
    "selected_academic_year = \"\"\n",
    "for i,value in enumerate(x[\"5. Academic Year\"].unique()):\n",
    "    if(academic_year==i):\n",
    "        selected_academic_year=value\n",
    "        break;\n",
    "        \n",
    "for i,value in enumerate(x[\"6. Current CGPA\"].unique()):\n",
    "    \n",
    "    print(f\"Enter: {i+1} for {value}\")\n",
    "    \n",
    "current_cgpa = int(input(\"Enter Here:\"))-1\n",
    "    \n",
    "selected_current_cgpa = \"\"\n",
    "for i,value in enumerate(x[\"6. Current CGPA\"].unique()):\n",
    "    if(current_cgpa==i):\n",
    "        selected_current_cgpa=value\n",
    "        break;\n",
    "        \n",
    "for i,value in enumerate(x[\"7. Did you receive a waiver or scholarship at your university?\"].unique()):\n",
    "    \n",
    "    print(f\"Enter: {i+1} for {value}\")\n",
    "    \n",
    "entered_scholarship = int(input(\"Enter Here:\"))-1\n",
    "    \n",
    "selected_scholarship = \"\"\n",
    "for i,value in enumerate(x[\"7. Did you receive a waiver or scholarship at your university?\"].unique()):\n",
    "    if(entered_scholarship==i):\n",
    "        selected_scholarship=value\n",
    "        break;\n",
    "\n",
    "    \n",
    "print(f\"You're Age:{entered_age}, You are grouped under the age group: {age}\")\n",
    "print(f\"You're Gender:{gender}\")  \n",
    "\n",
    "print(f\"You're Selected University:{selected_university}\")\n",
    "print(f\"You're Selected Department:{selected_department}\")  \n",
    "print(f\"You're Selected Academic Year:{selected_academic_year}\")\n",
    "print(f\"You're CGPA:{current_cgpa}, You are grouped under the CGPA group: {selected_current_cgpa}\")\n",
    "print(f\"You're Scholarship Status:{selected_scholarship}\")"
   ]
  },
  {
   "cell_type": "code",
   "execution_count": 75,
   "id": "7166ebec",
   "metadata": {},
   "outputs": [],
   "source": [
    "new_data = {\n",
    "    '1. Age': age,\n",
    "    '2. Gender': gender,\n",
    "    '3. University': selected_university,\n",
    "    '4. Department': selected_department,\n",
    "    '5. Academic Year': selected_academic_year,\n",
    "    '6. Current CGPA': selected_current_cgpa,\n",
    "    '7. Did you receive a waiver or scholarship at your university?': selected_scholarship\n",
    "}"
   ]
  },
  {
   "cell_type": "code",
   "execution_count": 76,
   "id": "a25131f5",
   "metadata": {},
   "outputs": [
    {
     "data": {
      "text/plain": [
       "array([0])"
      ]
     },
     "execution_count": 76,
     "metadata": {},
     "output_type": "execute_result"
    }
   ],
   "source": [
    "new_df = pd.DataFrame([new_data])\n",
    "new_df_encoded = pd.get_dummies(new_df, dtype=int)\n",
    "new_df_encoded = new_df_encoded.reindex(columns=columns_for_prediction, fill_value=0)\n",
    "re.predict(new_df_encoded)"
   ]
  },
  {
   "cell_type": "code",
   "execution_count": 77,
   "id": "b64f676b",
   "metadata": {},
   "outputs": [],
   "source": [
    "from xgboost import XGBClassifier as xgb"
   ]
  },
  {
   "cell_type": "code",
   "execution_count": null,
   "id": "ac103b67",
   "metadata": {},
   "outputs": [],
   "source": []
  },
  {
   "cell_type": "code",
   "execution_count": 78,
   "id": "51260c1e",
   "metadata": {},
   "outputs": [],
   "source": [
    "xgbClass=xgb(n_estimators=100,max_depth=10,scale_pos_weight=class_ratio,max_leaves=10, verbosity=2, random_state=0)"
   ]
  },
  {
   "cell_type": "code",
   "execution_count": 79,
   "id": "8ec2843a",
   "metadata": {},
   "outputs": [
    {
     "name": "stdout",
     "output_type": "stream",
     "text": [
      "[19:43:41] INFO: C:\\buildkite-agent\\builds\\buildkite-windows-cpu-autoscaling-group-i-0fdc6d574b9c0d168-1\\xgboost\\xgboost-ci-windows\\src\\tree\\updater_prune.cc:98: tree pruning end, 130 extra nodes, 0 pruned nodes, max_depth=10\n",
      "[19:43:41] INFO: C:\\buildkite-agent\\builds\\buildkite-windows-cpu-autoscaling-group-i-0fdc6d574b9c0d168-1\\xgboost\\xgboost-ci-windows\\src\\tree\\updater_prune.cc:98: tree pruning end, 136 extra nodes, 0 pruned nodes, max_depth=10\n",
      "[19:43:41] INFO: C:\\buildkite-agent\\builds\\buildkite-windows-cpu-autoscaling-group-i-0fdc6d574b9c0d168-1\\xgboost\\xgboost-ci-windows\\src\\tree\\updater_prune.cc:98: tree pruning end, 100 extra nodes, 0 pruned nodes, max_depth=10\n",
      "[19:43:41] INFO: C:\\buildkite-agent\\builds\\buildkite-windows-cpu-autoscaling-group-i-0fdc6d574b9c0d168-1\\xgboost\\xgboost-ci-windows\\src\\tree\\updater_prune.cc:98: tree pruning end, 66 extra nodes, 0 pruned nodes, max_depth=10\n",
      "[19:43:41] INFO: C:\\buildkite-agent\\builds\\buildkite-windows-cpu-autoscaling-group-i-0fdc6d574b9c0d168-1\\xgboost\\xgboost-ci-windows\\src\\tree\\updater_prune.cc:98: tree pruning end, 122 extra nodes, 0 pruned nodes, max_depth=10\n",
      "[19:43:41] INFO: C:\\buildkite-agent\\builds\\buildkite-windows-cpu-autoscaling-group-i-0fdc6d574b9c0d168-1\\xgboost\\xgboost-ci-windows\\src\\tree\\updater_prune.cc:98: tree pruning end, 126 extra nodes, 0 pruned nodes, max_depth=10\n",
      "[19:43:41] INFO: C:\\buildkite-agent\\builds\\buildkite-windows-cpu-autoscaling-group-i-0fdc6d574b9c0d168-1\\xgboost\\xgboost-ci-windows\\src\\tree\\updater_prune.cc:98: tree pruning end, 62 extra nodes, 0 pruned nodes, max_depth=10\n",
      "[19:43:41] INFO: C:\\buildkite-agent\\builds\\buildkite-windows-cpu-autoscaling-group-i-0fdc6d574b9c0d168-1\\xgboost\\xgboost-ci-windows\\src\\tree\\updater_prune.cc:98: tree pruning end, 140 extra nodes, 0 pruned nodes, max_depth=10\n",
      "[19:43:41] INFO: C:\\buildkite-agent\\builds\\buildkite-windows-cpu-autoscaling-group-i-0fdc6d574b9c0d168-1\\xgboost\\xgboost-ci-windows\\src\\tree\\updater_prune.cc:98: tree pruning end, 88 extra nodes, 0 pruned nodes, max_depth=10\n",
      "[19:43:41] INFO: C:\\buildkite-agent\\builds\\buildkite-windows-cpu-autoscaling-group-i-0fdc6d574b9c0d168-1\\xgboost\\xgboost-ci-windows\\src\\tree\\updater_prune.cc:98: tree pruning end, 122 extra nodes, 0 pruned nodes, max_depth=10\n",
      "[19:43:41] INFO: C:\\buildkite-agent\\builds\\buildkite-windows-cpu-autoscaling-group-i-0fdc6d574b9c0d168-1\\xgboost\\xgboost-ci-windows\\src\\tree\\updater_prune.cc:98: tree pruning end, 90 extra nodes, 0 pruned nodes, max_depth=10\n",
      "[19:43:41] INFO: C:\\buildkite-agent\\builds\\buildkite-windows-cpu-autoscaling-group-i-0fdc6d574b9c0d168-1\\xgboost\\xgboost-ci-windows\\src\\tree\\updater_prune.cc:98: tree pruning end, 82 extra nodes, 0 pruned nodes, max_depth=10\n",
      "[19:43:41] INFO: C:\\buildkite-agent\\builds\\buildkite-windows-cpu-autoscaling-group-i-0fdc6d574b9c0d168-1\\xgboost\\xgboost-ci-windows\\src\\tree\\updater_prune.cc:98: tree pruning end, 66 extra nodes, 0 pruned nodes, max_depth=10\n",
      "[19:43:41] INFO: C:\\buildkite-agent\\builds\\buildkite-windows-cpu-autoscaling-group-i-0fdc6d574b9c0d168-1\\xgboost\\xgboost-ci-windows\\src\\tree\\updater_prune.cc:98: tree pruning end, 108 extra nodes, 0 pruned nodes, max_depth=10\n",
      "[19:43:41] INFO: C:\\buildkite-agent\\builds\\buildkite-windows-cpu-autoscaling-group-i-0fdc6d574b9c0d168-1\\xgboost\\xgboost-ci-windows\\src\\tree\\updater_prune.cc:98: tree pruning end, 54 extra nodes, 0 pruned nodes, max_depth=10\n",
      "[19:43:41] INFO: C:\\buildkite-agent\\builds\\buildkite-windows-cpu-autoscaling-group-i-0fdc6d574b9c0d168-1\\xgboost\\xgboost-ci-windows\\src\\tree\\updater_prune.cc:98: tree pruning end, 62 extra nodes, 0 pruned nodes, max_depth=10\n",
      "[19:43:41] INFO: C:\\buildkite-agent\\builds\\buildkite-windows-cpu-autoscaling-group-i-0fdc6d574b9c0d168-1\\xgboost\\xgboost-ci-windows\\src\\tree\\updater_prune.cc:98: tree pruning end, 110 extra nodes, 0 pruned nodes, max_depth=10\n",
      "[19:43:41] INFO: C:\\buildkite-agent\\builds\\buildkite-windows-cpu-autoscaling-group-i-0fdc6d574b9c0d168-1\\xgboost\\xgboost-ci-windows\\src\\tree\\updater_prune.cc:98: tree pruning end, 52 extra nodes, 0 pruned nodes, max_depth=10\n",
      "[19:43:41] INFO: C:\\buildkite-agent\\builds\\buildkite-windows-cpu-autoscaling-group-i-0fdc6d574b9c0d168-1\\xgboost\\xgboost-ci-windows\\src\\tree\\updater_prune.cc:98: tree pruning end, 58 extra nodes, 0 pruned nodes, max_depth=10\n",
      "[19:43:41] INFO: C:\\buildkite-agent\\builds\\buildkite-windows-cpu-autoscaling-group-i-0fdc6d574b9c0d168-1\\xgboost\\xgboost-ci-windows\\src\\tree\\updater_prune.cc:98: tree pruning end, 88 extra nodes, 0 pruned nodes, max_depth=10\n",
      "[19:43:41] INFO: C:\\buildkite-agent\\builds\\buildkite-windows-cpu-autoscaling-group-i-0fdc6d574b9c0d168-1\\xgboost\\xgboost-ci-windows\\src\\tree\\updater_prune.cc:98: tree pruning end, 150 extra nodes, 0 pruned nodes, max_depth=10\n",
      "[19:43:41] INFO: C:\\buildkite-agent\\builds\\buildkite-windows-cpu-autoscaling-group-i-0fdc6d574b9c0d168-1\\xgboost\\xgboost-ci-windows\\src\\tree\\updater_prune.cc:98: tree pruning end, 44 extra nodes, 0 pruned nodes, max_depth=10\n",
      "[19:43:41] INFO: C:\\buildkite-agent\\builds\\buildkite-windows-cpu-autoscaling-group-i-0fdc6d574b9c0d168-1\\xgboost\\xgboost-ci-windows\\src\\tree\\updater_prune.cc:98: tree pruning end, 112 extra nodes, 0 pruned nodes, max_depth=10\n",
      "[19:43:41] INFO: C:\\buildkite-agent\\builds\\buildkite-windows-cpu-autoscaling-group-i-0fdc6d574b9c0d168-1\\xgboost\\xgboost-ci-windows\\src\\tree\\updater_prune.cc:98: tree pruning end, 112 extra nodes, 0 pruned nodes, max_depth=10\n",
      "[19:43:41] INFO: C:\\buildkite-agent\\builds\\buildkite-windows-cpu-autoscaling-group-i-0fdc6d574b9c0d168-1\\xgboost\\xgboost-ci-windows\\src\\tree\\updater_prune.cc:98: tree pruning end, 70 extra nodes, 0 pruned nodes, max_depth=10\n",
      "[19:43:41] INFO: C:\\buildkite-agent\\builds\\buildkite-windows-cpu-autoscaling-group-i-0fdc6d574b9c0d168-1\\xgboost\\xgboost-ci-windows\\src\\tree\\updater_prune.cc:98: tree pruning end, 44 extra nodes, 0 pruned nodes, max_depth=10\n",
      "[19:43:41] INFO: C:\\buildkite-agent\\builds\\buildkite-windows-cpu-autoscaling-group-i-0fdc6d574b9c0d168-1\\xgboost\\xgboost-ci-windows\\src\\tree\\updater_prune.cc:98: tree pruning end, 86 extra nodes, 0 pruned nodes, max_depth=10\n",
      "[19:43:41] INFO: C:\\buildkite-agent\\builds\\buildkite-windows-cpu-autoscaling-group-i-0fdc6d574b9c0d168-1\\xgboost\\xgboost-ci-windows\\src\\tree\\updater_prune.cc:98: tree pruning end, 50 extra nodes, 0 pruned nodes, max_depth=10\n",
      "[19:43:41] INFO: C:\\buildkite-agent\\builds\\buildkite-windows-cpu-autoscaling-group-i-0fdc6d574b9c0d168-1\\xgboost\\xgboost-ci-windows\\src\\tree\\updater_prune.cc:98: tree pruning end, 100 extra nodes, 0 pruned nodes, max_depth=10\n",
      "[19:43:41] INFO: C:\\buildkite-agent\\builds\\buildkite-windows-cpu-autoscaling-group-i-0fdc6d574b9c0d168-1\\xgboost\\xgboost-ci-windows\\src\\tree\\updater_prune.cc:98: tree pruning end, 36 extra nodes, 0 pruned nodes, max_depth=10\n",
      "[19:43:41] INFO: C:\\buildkite-agent\\builds\\buildkite-windows-cpu-autoscaling-group-i-0fdc6d574b9c0d168-1\\xgboost\\xgboost-ci-windows\\src\\tree\\updater_prune.cc:98: tree pruning end, 44 extra nodes, 0 pruned nodes, max_depth=10\n",
      "[19:43:41] INFO: C:\\buildkite-agent\\builds\\buildkite-windows-cpu-autoscaling-group-i-0fdc6d574b9c0d168-1\\xgboost\\xgboost-ci-windows\\src\\tree\\updater_prune.cc:98: tree pruning end, 38 extra nodes, 0 pruned nodes, max_depth=10\n",
      "[19:43:41] INFO: C:\\buildkite-agent\\builds\\buildkite-windows-cpu-autoscaling-group-i-0fdc6d574b9c0d168-1\\xgboost\\xgboost-ci-windows\\src\\tree\\updater_prune.cc:98: tree pruning end, 112 extra nodes, 0 pruned nodes, max_depth=10\n",
      "[19:43:41] INFO: C:\\buildkite-agent\\builds\\buildkite-windows-cpu-autoscaling-group-i-0fdc6d574b9c0d168-1\\xgboost\\xgboost-ci-windows\\src\\tree\\updater_prune.cc:98: tree pruning end, 66 extra nodes, 0 pruned nodes, max_depth=10\n",
      "[19:43:41] INFO: C:\\buildkite-agent\\builds\\buildkite-windows-cpu-autoscaling-group-i-0fdc6d574b9c0d168-1\\xgboost\\xgboost-ci-windows\\src\\tree\\updater_prune.cc:98: tree pruning end, 46 extra nodes, 0 pruned nodes, max_depth=10\n",
      "[19:43:41] INFO: C:\\buildkite-agent\\builds\\buildkite-windows-cpu-autoscaling-group-i-0fdc6d574b9c0d168-1\\xgboost\\xgboost-ci-windows\\src\\tree\\updater_prune.cc:98: tree pruning end, 86 extra nodes, 0 pruned nodes, max_depth=10\n",
      "[19:43:41] INFO: C:\\buildkite-agent\\builds\\buildkite-windows-cpu-autoscaling-group-i-0fdc6d574b9c0d168-1\\xgboost\\xgboost-ci-windows\\src\\tree\\updater_prune.cc:98: tree pruning end, 84 extra nodes, 0 pruned nodes, max_depth=10\n",
      "[19:43:41] INFO: C:\\buildkite-agent\\builds\\buildkite-windows-cpu-autoscaling-group-i-0fdc6d574b9c0d168-1\\xgboost\\xgboost-ci-windows\\src\\tree\\updater_prune.cc:98: tree pruning end, 92 extra nodes, 0 pruned nodes, max_depth=10\n",
      "[19:43:41] INFO: C:\\buildkite-agent\\builds\\buildkite-windows-cpu-autoscaling-group-i-0fdc6d574b9c0d168-1\\xgboost\\xgboost-ci-windows\\src\\tree\\updater_prune.cc:98: tree pruning end, 122 extra nodes, 0 pruned nodes, max_depth=10\n",
      "[19:43:41] INFO: C:\\buildkite-agent\\builds\\buildkite-windows-cpu-autoscaling-group-i-0fdc6d574b9c0d168-1\\xgboost\\xgboost-ci-windows\\src\\tree\\updater_prune.cc:98: tree pruning end, 56 extra nodes, 0 pruned nodes, max_depth=10\n",
      "[19:43:41] INFO: C:\\buildkite-agent\\builds\\buildkite-windows-cpu-autoscaling-group-i-0fdc6d574b9c0d168-1\\xgboost\\xgboost-ci-windows\\src\\tree\\updater_prune.cc:98: tree pruning end, 108 extra nodes, 0 pruned nodes, max_depth=10\n",
      "[19:43:41] INFO: C:\\buildkite-agent\\builds\\buildkite-windows-cpu-autoscaling-group-i-0fdc6d574b9c0d168-1\\xgboost\\xgboost-ci-windows\\src\\tree\\updater_prune.cc:98: tree pruning end, 80 extra nodes, 0 pruned nodes, max_depth=10\n",
      "[19:43:41] INFO: C:\\buildkite-agent\\builds\\buildkite-windows-cpu-autoscaling-group-i-0fdc6d574b9c0d168-1\\xgboost\\xgboost-ci-windows\\src\\tree\\updater_prune.cc:98: tree pruning end, 46 extra nodes, 0 pruned nodes, max_depth=10\n",
      "[19:43:41] INFO: C:\\buildkite-agent\\builds\\buildkite-windows-cpu-autoscaling-group-i-0fdc6d574b9c0d168-1\\xgboost\\xgboost-ci-windows\\src\\tree\\updater_prune.cc:98: tree pruning end, 68 extra nodes, 0 pruned nodes, max_depth=10\n",
      "[19:43:41] INFO: C:\\buildkite-agent\\builds\\buildkite-windows-cpu-autoscaling-group-i-0fdc6d574b9c0d168-1\\xgboost\\xgboost-ci-windows\\src\\tree\\updater_prune.cc:98: tree pruning end, 126 extra nodes, 0 pruned nodes, max_depth=10\n",
      "[19:43:41] INFO: C:\\buildkite-agent\\builds\\buildkite-windows-cpu-autoscaling-group-i-0fdc6d574b9c0d168-1\\xgboost\\xgboost-ci-windows\\src\\tree\\updater_prune.cc:98: tree pruning end, 140 extra nodes, 0 pruned nodes, max_depth=10\n",
      "[19:43:41] INFO: C:\\buildkite-agent\\builds\\buildkite-windows-cpu-autoscaling-group-i-0fdc6d574b9c0d168-1\\xgboost\\xgboost-ci-windows\\src\\tree\\updater_prune.cc:98: tree pruning end, 122 extra nodes, 0 pruned nodes, max_depth=10\n",
      "[19:43:41] INFO: C:\\buildkite-agent\\builds\\buildkite-windows-cpu-autoscaling-group-i-0fdc6d574b9c0d168-1\\xgboost\\xgboost-ci-windows\\src\\tree\\updater_prune.cc:98: tree pruning end, 104 extra nodes, 0 pruned nodes, max_depth=10\n",
      "[19:43:41] INFO: C:\\buildkite-agent\\builds\\buildkite-windows-cpu-autoscaling-group-i-0fdc6d574b9c0d168-1\\xgboost\\xgboost-ci-windows\\src\\tree\\updater_prune.cc:98: tree pruning end, 96 extra nodes, 0 pruned nodes, max_depth=10\n",
      "[19:43:41] INFO: C:\\buildkite-agent\\builds\\buildkite-windows-cpu-autoscaling-group-i-0fdc6d574b9c0d168-1\\xgboost\\xgboost-ci-windows\\src\\tree\\updater_prune.cc:98: tree pruning end, 90 extra nodes, 0 pruned nodes, max_depth=10\n",
      "[19:43:41] INFO: C:\\buildkite-agent\\builds\\buildkite-windows-cpu-autoscaling-group-i-0fdc6d574b9c0d168-1\\xgboost\\xgboost-ci-windows\\src\\tree\\updater_prune.cc:98: tree pruning end, 112 extra nodes, 0 pruned nodes, max_depth=10\n",
      "[19:43:41] INFO: C:\\buildkite-agent\\builds\\buildkite-windows-cpu-autoscaling-group-i-0fdc6d574b9c0d168-1\\xgboost\\xgboost-ci-windows\\src\\tree\\updater_prune.cc:98: tree pruning end, 94 extra nodes, 0 pruned nodes, max_depth=10\n",
      "[19:43:41] INFO: C:\\buildkite-agent\\builds\\buildkite-windows-cpu-autoscaling-group-i-0fdc6d574b9c0d168-1\\xgboost\\xgboost-ci-windows\\src\\tree\\updater_prune.cc:98: tree pruning end, 90 extra nodes, 0 pruned nodes, max_depth=10\n",
      "[19:43:41] INFO: C:\\buildkite-agent\\builds\\buildkite-windows-cpu-autoscaling-group-i-0fdc6d574b9c0d168-1\\xgboost\\xgboost-ci-windows\\src\\tree\\updater_prune.cc:98: tree pruning end, 86 extra nodes, 0 pruned nodes, max_depth=10\n",
      "[19:43:41] INFO: C:\\buildkite-agent\\builds\\buildkite-windows-cpu-autoscaling-group-i-0fdc6d574b9c0d168-1\\xgboost\\xgboost-ci-windows\\src\\tree\\updater_prune.cc:98: tree pruning end, 78 extra nodes, 0 pruned nodes, max_depth=10\n",
      "[19:43:41] INFO: C:\\buildkite-agent\\builds\\buildkite-windows-cpu-autoscaling-group-i-0fdc6d574b9c0d168-1\\xgboost\\xgboost-ci-windows\\src\\tree\\updater_prune.cc:98: tree pruning end, 104 extra nodes, 0 pruned nodes, max_depth=10\n",
      "[19:43:41] INFO: C:\\buildkite-agent\\builds\\buildkite-windows-cpu-autoscaling-group-i-0fdc6d574b9c0d168-1\\xgboost\\xgboost-ci-windows\\src\\tree\\updater_prune.cc:98: tree pruning end, 102 extra nodes, 0 pruned nodes, max_depth=10\n",
      "[19:43:41] INFO: C:\\buildkite-agent\\builds\\buildkite-windows-cpu-autoscaling-group-i-0fdc6d574b9c0d168-1\\xgboost\\xgboost-ci-windows\\src\\tree\\updater_prune.cc:98: tree pruning end, 60 extra nodes, 0 pruned nodes, max_depth=10\n",
      "[19:43:41] INFO: C:\\buildkite-agent\\builds\\buildkite-windows-cpu-autoscaling-group-i-0fdc6d574b9c0d168-1\\xgboost\\xgboost-ci-windows\\src\\tree\\updater_prune.cc:98: tree pruning end, 102 extra nodes, 0 pruned nodes, max_depth=10\n",
      "[19:43:41] INFO: C:\\buildkite-agent\\builds\\buildkite-windows-cpu-autoscaling-group-i-0fdc6d574b9c0d168-1\\xgboost\\xgboost-ci-windows\\src\\tree\\updater_prune.cc:98: tree pruning end, 102 extra nodes, 0 pruned nodes, max_depth=10\n",
      "[19:43:41] INFO: C:\\buildkite-agent\\builds\\buildkite-windows-cpu-autoscaling-group-i-0fdc6d574b9c0d168-1\\xgboost\\xgboost-ci-windows\\src\\tree\\updater_prune.cc:98: tree pruning end, 62 extra nodes, 0 pruned nodes, max_depth=10\n",
      "[19:43:41] INFO: C:\\buildkite-agent\\builds\\buildkite-windows-cpu-autoscaling-group-i-0fdc6d574b9c0d168-1\\xgboost\\xgboost-ci-windows\\src\\tree\\updater_prune.cc:98: tree pruning end, 112 extra nodes, 0 pruned nodes, max_depth=10\n",
      "[19:43:41] INFO: C:\\buildkite-agent\\builds\\buildkite-windows-cpu-autoscaling-group-i-0fdc6d574b9c0d168-1\\xgboost\\xgboost-ci-windows\\src\\tree\\updater_prune.cc:98: tree pruning end, 80 extra nodes, 0 pruned nodes, max_depth=10\n",
      "[19:43:41] INFO: C:\\buildkite-agent\\builds\\buildkite-windows-cpu-autoscaling-group-i-0fdc6d574b9c0d168-1\\xgboost\\xgboost-ci-windows\\src\\tree\\updater_prune.cc:98: tree pruning end, 86 extra nodes, 0 pruned nodes, max_depth=10\n",
      "[19:43:41] INFO: C:\\buildkite-agent\\builds\\buildkite-windows-cpu-autoscaling-group-i-0fdc6d574b9c0d168-1\\xgboost\\xgboost-ci-windows\\src\\tree\\updater_prune.cc:98: tree pruning end, 74 extra nodes, 0 pruned nodes, max_depth=10\n",
      "[19:43:41] INFO: C:\\buildkite-agent\\builds\\buildkite-windows-cpu-autoscaling-group-i-0fdc6d574b9c0d168-1\\xgboost\\xgboost-ci-windows\\src\\tree\\updater_prune.cc:98: tree pruning end, 106 extra nodes, 0 pruned nodes, max_depth=10\n",
      "[19:43:41] INFO: C:\\buildkite-agent\\builds\\buildkite-windows-cpu-autoscaling-group-i-0fdc6d574b9c0d168-1\\xgboost\\xgboost-ci-windows\\src\\tree\\updater_prune.cc:98: tree pruning end, 74 extra nodes, 0 pruned nodes, max_depth=10\n",
      "[19:43:41] INFO: C:\\buildkite-agent\\builds\\buildkite-windows-cpu-autoscaling-group-i-0fdc6d574b9c0d168-1\\xgboost\\xgboost-ci-windows\\src\\tree\\updater_prune.cc:98: tree pruning end, 100 extra nodes, 0 pruned nodes, max_depth=10\n",
      "[19:43:41] INFO: C:\\buildkite-agent\\builds\\buildkite-windows-cpu-autoscaling-group-i-0fdc6d574b9c0d168-1\\xgboost\\xgboost-ci-windows\\src\\tree\\updater_prune.cc:98: tree pruning end, 46 extra nodes, 0 pruned nodes, max_depth=10\n"
     ]
    },
    {
     "name": "stdout",
     "output_type": "stream",
     "text": [
      "[19:43:41] INFO: C:\\buildkite-agent\\builds\\buildkite-windows-cpu-autoscaling-group-i-0fdc6d574b9c0d168-1\\xgboost\\xgboost-ci-windows\\src\\tree\\updater_prune.cc:98: tree pruning end, 124 extra nodes, 0 pruned nodes, max_depth=10\n",
      "[19:43:41] INFO: C:\\buildkite-agent\\builds\\buildkite-windows-cpu-autoscaling-group-i-0fdc6d574b9c0d168-1\\xgboost\\xgboost-ci-windows\\src\\tree\\updater_prune.cc:98: tree pruning end, 110 extra nodes, 0 pruned nodes, max_depth=10\n",
      "[19:43:41] INFO: C:\\buildkite-agent\\builds\\buildkite-windows-cpu-autoscaling-group-i-0fdc6d574b9c0d168-1\\xgboost\\xgboost-ci-windows\\src\\tree\\updater_prune.cc:98: tree pruning end, 84 extra nodes, 0 pruned nodes, max_depth=10\n",
      "[19:43:41] INFO: C:\\buildkite-agent\\builds\\buildkite-windows-cpu-autoscaling-group-i-0fdc6d574b9c0d168-1\\xgboost\\xgboost-ci-windows\\src\\tree\\updater_prune.cc:98: tree pruning end, 122 extra nodes, 0 pruned nodes, max_depth=10\n",
      "[19:43:41] INFO: C:\\buildkite-agent\\builds\\buildkite-windows-cpu-autoscaling-group-i-0fdc6d574b9c0d168-1\\xgboost\\xgboost-ci-windows\\src\\tree\\updater_prune.cc:98: tree pruning end, 32 extra nodes, 0 pruned nodes, max_depth=10\n",
      "[19:43:41] INFO: C:\\buildkite-agent\\builds\\buildkite-windows-cpu-autoscaling-group-i-0fdc6d574b9c0d168-1\\xgboost\\xgboost-ci-windows\\src\\tree\\updater_prune.cc:98: tree pruning end, 92 extra nodes, 0 pruned nodes, max_depth=10\n",
      "[19:43:41] INFO: C:\\buildkite-agent\\builds\\buildkite-windows-cpu-autoscaling-group-i-0fdc6d574b9c0d168-1\\xgboost\\xgboost-ci-windows\\src\\tree\\updater_prune.cc:98: tree pruning end, 112 extra nodes, 0 pruned nodes, max_depth=10\n",
      "[19:43:41] INFO: C:\\buildkite-agent\\builds\\buildkite-windows-cpu-autoscaling-group-i-0fdc6d574b9c0d168-1\\xgboost\\xgboost-ci-windows\\src\\tree\\updater_prune.cc:98: tree pruning end, 68 extra nodes, 0 pruned nodes, max_depth=10\n",
      "[19:43:41] INFO: C:\\buildkite-agent\\builds\\buildkite-windows-cpu-autoscaling-group-i-0fdc6d574b9c0d168-1\\xgboost\\xgboost-ci-windows\\src\\tree\\updater_prune.cc:98: tree pruning end, 52 extra nodes, 0 pruned nodes, max_depth=10\n",
      "[19:43:41] INFO: C:\\buildkite-agent\\builds\\buildkite-windows-cpu-autoscaling-group-i-0fdc6d574b9c0d168-1\\xgboost\\xgboost-ci-windows\\src\\tree\\updater_prune.cc:98: tree pruning end, 66 extra nodes, 0 pruned nodes, max_depth=10\n",
      "[19:43:41] INFO: C:\\buildkite-agent\\builds\\buildkite-windows-cpu-autoscaling-group-i-0fdc6d574b9c0d168-1\\xgboost\\xgboost-ci-windows\\src\\tree\\updater_prune.cc:98: tree pruning end, 80 extra nodes, 0 pruned nodes, max_depth=10\n",
      "[19:43:41] INFO: C:\\buildkite-agent\\builds\\buildkite-windows-cpu-autoscaling-group-i-0fdc6d574b9c0d168-1\\xgboost\\xgboost-ci-windows\\src\\tree\\updater_prune.cc:98: tree pruning end, 60 extra nodes, 0 pruned nodes, max_depth=10\n",
      "[19:43:41] INFO: C:\\buildkite-agent\\builds\\buildkite-windows-cpu-autoscaling-group-i-0fdc6d574b9c0d168-1\\xgboost\\xgboost-ci-windows\\src\\tree\\updater_prune.cc:98: tree pruning end, 86 extra nodes, 0 pruned nodes, max_depth=10\n",
      "[19:43:41] INFO: C:\\buildkite-agent\\builds\\buildkite-windows-cpu-autoscaling-group-i-0fdc6d574b9c0d168-1\\xgboost\\xgboost-ci-windows\\src\\tree\\updater_prune.cc:98: tree pruning end, 74 extra nodes, 0 pruned nodes, max_depth=10\n",
      "[19:43:41] INFO: C:\\buildkite-agent\\builds\\buildkite-windows-cpu-autoscaling-group-i-0fdc6d574b9c0d168-1\\xgboost\\xgboost-ci-windows\\src\\tree\\updater_prune.cc:98: tree pruning end, 62 extra nodes, 0 pruned nodes, max_depth=10\n",
      "[19:43:41] INFO: C:\\buildkite-agent\\builds\\buildkite-windows-cpu-autoscaling-group-i-0fdc6d574b9c0d168-1\\xgboost\\xgboost-ci-windows\\src\\tree\\updater_prune.cc:98: tree pruning end, 68 extra nodes, 0 pruned nodes, max_depth=10\n",
      "[19:43:41] INFO: C:\\buildkite-agent\\builds\\buildkite-windows-cpu-autoscaling-group-i-0fdc6d574b9c0d168-1\\xgboost\\xgboost-ci-windows\\src\\tree\\updater_prune.cc:98: tree pruning end, 72 extra nodes, 0 pruned nodes, max_depth=10\n",
      "[19:43:41] INFO: C:\\buildkite-agent\\builds\\buildkite-windows-cpu-autoscaling-group-i-0fdc6d574b9c0d168-1\\xgboost\\xgboost-ci-windows\\src\\tree\\updater_prune.cc:98: tree pruning end, 40 extra nodes, 0 pruned nodes, max_depth=10\n",
      "[19:43:41] INFO: C:\\buildkite-agent\\builds\\buildkite-windows-cpu-autoscaling-group-i-0fdc6d574b9c0d168-1\\xgboost\\xgboost-ci-windows\\src\\tree\\updater_prune.cc:98: tree pruning end, 64 extra nodes, 0 pruned nodes, max_depth=10\n",
      "[19:43:41] INFO: C:\\buildkite-agent\\builds\\buildkite-windows-cpu-autoscaling-group-i-0fdc6d574b9c0d168-1\\xgboost\\xgboost-ci-windows\\src\\tree\\updater_prune.cc:98: tree pruning end, 108 extra nodes, 0 pruned nodes, max_depth=10\n",
      "[19:43:41] INFO: C:\\buildkite-agent\\builds\\buildkite-windows-cpu-autoscaling-group-i-0fdc6d574b9c0d168-1\\xgboost\\xgboost-ci-windows\\src\\tree\\updater_prune.cc:98: tree pruning end, 58 extra nodes, 0 pruned nodes, max_depth=10\n",
      "[19:43:41] INFO: C:\\buildkite-agent\\builds\\buildkite-windows-cpu-autoscaling-group-i-0fdc6d574b9c0d168-1\\xgboost\\xgboost-ci-windows\\src\\tree\\updater_prune.cc:98: tree pruning end, 86 extra nodes, 0 pruned nodes, max_depth=10\n",
      "[19:43:41] INFO: C:\\buildkite-agent\\builds\\buildkite-windows-cpu-autoscaling-group-i-0fdc6d574b9c0d168-1\\xgboost\\xgboost-ci-windows\\src\\tree\\updater_prune.cc:98: tree pruning end, 70 extra nodes, 0 pruned nodes, max_depth=10\n",
      "[19:43:41] INFO: C:\\buildkite-agent\\builds\\buildkite-windows-cpu-autoscaling-group-i-0fdc6d574b9c0d168-1\\xgboost\\xgboost-ci-windows\\src\\tree\\updater_prune.cc:98: tree pruning end, 82 extra nodes, 0 pruned nodes, max_depth=10\n",
      "[19:43:41] INFO: C:\\buildkite-agent\\builds\\buildkite-windows-cpu-autoscaling-group-i-0fdc6d574b9c0d168-1\\xgboost\\xgboost-ci-windows\\src\\tree\\updater_prune.cc:98: tree pruning end, 40 extra nodes, 0 pruned nodes, max_depth=10\n",
      "[19:43:41] INFO: C:\\buildkite-agent\\builds\\buildkite-windows-cpu-autoscaling-group-i-0fdc6d574b9c0d168-1\\xgboost\\xgboost-ci-windows\\src\\tree\\updater_prune.cc:98: tree pruning end, 62 extra nodes, 0 pruned nodes, max_depth=10\n",
      "[19:43:41] INFO: C:\\buildkite-agent\\builds\\buildkite-windows-cpu-autoscaling-group-i-0fdc6d574b9c0d168-1\\xgboost\\xgboost-ci-windows\\src\\tree\\updater_prune.cc:98: tree pruning end, 54 extra nodes, 0 pruned nodes, max_depth=10\n",
      "[19:43:41] INFO: C:\\buildkite-agent\\builds\\buildkite-windows-cpu-autoscaling-group-i-0fdc6d574b9c0d168-1\\xgboost\\xgboost-ci-windows\\src\\tree\\updater_prune.cc:98: tree pruning end, 56 extra nodes, 0 pruned nodes, max_depth=10\n",
      "[19:43:41] INFO: C:\\buildkite-agent\\builds\\buildkite-windows-cpu-autoscaling-group-i-0fdc6d574b9c0d168-1\\xgboost\\xgboost-ci-windows\\src\\tree\\updater_prune.cc:98: tree pruning end, 60 extra nodes, 0 pruned nodes, max_depth=10\n",
      "[19:43:41] INFO: C:\\buildkite-agent\\builds\\buildkite-windows-cpu-autoscaling-group-i-0fdc6d574b9c0d168-1\\xgboost\\xgboost-ci-windows\\src\\tree\\updater_prune.cc:98: tree pruning end, 72 extra nodes, 0 pruned nodes, max_depth=10\n",
      "[19:43:41] INFO: C:\\buildkite-agent\\builds\\buildkite-windows-cpu-autoscaling-group-i-0fdc6d574b9c0d168-1\\xgboost\\xgboost-ci-windows\\src\\tree\\updater_prune.cc:98: tree pruning end, 48 extra nodes, 0 pruned nodes, max_depth=10\n"
     ]
    },
    {
     "data": {
      "text/html": [
       "<style>#sk-container-id-6 {color: black;background-color: white;}#sk-container-id-6 pre{padding: 0;}#sk-container-id-6 div.sk-toggleable {background-color: white;}#sk-container-id-6 label.sk-toggleable__label {cursor: pointer;display: block;width: 100%;margin-bottom: 0;padding: 0.3em;box-sizing: border-box;text-align: center;}#sk-container-id-6 label.sk-toggleable__label-arrow:before {content: \"▸\";float: left;margin-right: 0.25em;color: #696969;}#sk-container-id-6 label.sk-toggleable__label-arrow:hover:before {color: black;}#sk-container-id-6 div.sk-estimator:hover label.sk-toggleable__label-arrow:before {color: black;}#sk-container-id-6 div.sk-toggleable__content {max-height: 0;max-width: 0;overflow: hidden;text-align: left;background-color: #f0f8ff;}#sk-container-id-6 div.sk-toggleable__content pre {margin: 0.2em;color: black;border-radius: 0.25em;background-color: #f0f8ff;}#sk-container-id-6 input.sk-toggleable__control:checked~div.sk-toggleable__content {max-height: 200px;max-width: 100%;overflow: auto;}#sk-container-id-6 input.sk-toggleable__control:checked~label.sk-toggleable__label-arrow:before {content: \"▾\";}#sk-container-id-6 div.sk-estimator input.sk-toggleable__control:checked~label.sk-toggleable__label {background-color: #d4ebff;}#sk-container-id-6 div.sk-label input.sk-toggleable__control:checked~label.sk-toggleable__label {background-color: #d4ebff;}#sk-container-id-6 input.sk-hidden--visually {border: 0;clip: rect(1px 1px 1px 1px);clip: rect(1px, 1px, 1px, 1px);height: 1px;margin: -1px;overflow: hidden;padding: 0;position: absolute;width: 1px;}#sk-container-id-6 div.sk-estimator {font-family: monospace;background-color: #f0f8ff;border: 1px dotted black;border-radius: 0.25em;box-sizing: border-box;margin-bottom: 0.5em;}#sk-container-id-6 div.sk-estimator:hover {background-color: #d4ebff;}#sk-container-id-6 div.sk-parallel-item::after {content: \"\";width: 100%;border-bottom: 1px solid gray;flex-grow: 1;}#sk-container-id-6 div.sk-label:hover label.sk-toggleable__label {background-color: #d4ebff;}#sk-container-id-6 div.sk-serial::before {content: \"\";position: absolute;border-left: 1px solid gray;box-sizing: border-box;top: 0;bottom: 0;left: 50%;z-index: 0;}#sk-container-id-6 div.sk-serial {display: flex;flex-direction: column;align-items: center;background-color: white;padding-right: 0.2em;padding-left: 0.2em;position: relative;}#sk-container-id-6 div.sk-item {position: relative;z-index: 1;}#sk-container-id-6 div.sk-parallel {display: flex;align-items: stretch;justify-content: center;background-color: white;position: relative;}#sk-container-id-6 div.sk-item::before, #sk-container-id-6 div.sk-parallel-item::before {content: \"\";position: absolute;border-left: 1px solid gray;box-sizing: border-box;top: 0;bottom: 0;left: 50%;z-index: -1;}#sk-container-id-6 div.sk-parallel-item {display: flex;flex-direction: column;z-index: 1;position: relative;background-color: white;}#sk-container-id-6 div.sk-parallel-item:first-child::after {align-self: flex-end;width: 50%;}#sk-container-id-6 div.sk-parallel-item:last-child::after {align-self: flex-start;width: 50%;}#sk-container-id-6 div.sk-parallel-item:only-child::after {width: 0;}#sk-container-id-6 div.sk-dashed-wrapped {border: 1px dashed gray;margin: 0 0.4em 0.5em 0.4em;box-sizing: border-box;padding-bottom: 0.4em;background-color: white;}#sk-container-id-6 div.sk-label label {font-family: monospace;font-weight: bold;display: inline-block;line-height: 1.2em;}#sk-container-id-6 div.sk-label-container {text-align: center;}#sk-container-id-6 div.sk-container {/* jupyter's `normalize.less` sets `[hidden] { display: none; }` but bootstrap.min.css set `[hidden] { display: none !important; }` so we also need the `!important` here to be able to override the default hidden behavior on the sphinx rendered scikit-learn.org. See: https://github.com/scikit-learn/scikit-learn/issues/21755 */display: inline-block !important;position: relative;}#sk-container-id-6 div.sk-text-repr-fallback {display: none;}</style><div id=\"sk-container-id-6\" class=\"sk-top-container\"><div class=\"sk-text-repr-fallback\"><pre>XGBClassifier(base_score=None, booster=None, callbacks=None,\n",
       "              colsample_bylevel=None, colsample_bynode=None,\n",
       "              colsample_bytree=None, early_stopping_rounds=None,\n",
       "              enable_categorical=False, eval_metric=None, feature_types=None,\n",
       "              gamma=None, gpu_id=None, grow_policy=None, importance_type=None,\n",
       "              interaction_constraints=None, learning_rate=None, max_bin=None,\n",
       "              max_cat_threshold=None, max_cat_to_onehot=None,\n",
       "              max_delta_step=None, max_depth=10, max_leaves=10,\n",
       "              min_child_weight=None, missing=nan, monotone_constraints=None,\n",
       "              n_estimators=100, n_jobs=None, num_parallel_tree=None,\n",
       "              predictor=None, random_state=0, ...)</pre><b>In a Jupyter environment, please rerun this cell to show the HTML representation or trust the notebook. <br />On GitHub, the HTML representation is unable to render, please try loading this page with nbviewer.org.</b></div><div class=\"sk-container\" hidden><div class=\"sk-item\"><div class=\"sk-estimator sk-toggleable\"><input class=\"sk-toggleable__control sk-hidden--visually\" id=\"sk-estimator-id-10\" type=\"checkbox\" checked><label for=\"sk-estimator-id-10\" class=\"sk-toggleable__label sk-toggleable__label-arrow\">XGBClassifier</label><div class=\"sk-toggleable__content\"><pre>XGBClassifier(base_score=None, booster=None, callbacks=None,\n",
       "              colsample_bylevel=None, colsample_bynode=None,\n",
       "              colsample_bytree=None, early_stopping_rounds=None,\n",
       "              enable_categorical=False, eval_metric=None, feature_types=None,\n",
       "              gamma=None, gpu_id=None, grow_policy=None, importance_type=None,\n",
       "              interaction_constraints=None, learning_rate=None, max_bin=None,\n",
       "              max_cat_threshold=None, max_cat_to_onehot=None,\n",
       "              max_delta_step=None, max_depth=10, max_leaves=10,\n",
       "              min_child_weight=None, missing=nan, monotone_constraints=None,\n",
       "              n_estimators=100, n_jobs=None, num_parallel_tree=None,\n",
       "              predictor=None, random_state=0, ...)</pre></div></div></div></div></div>"
      ],
      "text/plain": [
       "XGBClassifier(base_score=None, booster=None, callbacks=None,\n",
       "              colsample_bylevel=None, colsample_bynode=None,\n",
       "              colsample_bytree=None, early_stopping_rounds=None,\n",
       "              enable_categorical=False, eval_metric=None, feature_types=None,\n",
       "              gamma=None, gpu_id=None, grow_policy=None, importance_type=None,\n",
       "              interaction_constraints=None, learning_rate=None, max_bin=None,\n",
       "              max_cat_threshold=None, max_cat_to_onehot=None,\n",
       "              max_delta_step=None, max_depth=10, max_leaves=10,\n",
       "              min_child_weight=None, missing=nan, monotone_constraints=None,\n",
       "              n_estimators=100, n_jobs=None, num_parallel_tree=None,\n",
       "              predictor=None, random_state=0, ...)"
      ]
     },
     "execution_count": 79,
     "metadata": {},
     "output_type": "execute_result"
    }
   ],
   "source": [
    "xgbClass.fit(x_train,y_train)"
   ]
  },
  {
   "cell_type": "code",
   "execution_count": 80,
   "id": "8425df1d",
   "metadata": {},
   "outputs": [
    {
     "data": {
      "text/plain": [
       "0.679144385026738"
      ]
     },
     "execution_count": 80,
     "metadata": {},
     "output_type": "execute_result"
    }
   ],
   "source": [
    "y_predict = xgbClass.predict(x_test)\n",
    "xgbClass.score(x_test,y_test)\n"
   ]
  },
  {
   "cell_type": "code",
   "execution_count": 81,
   "id": "c9040101",
   "metadata": {},
   "outputs": [],
   "source": [
    "from sklearn.metrics import confusion_matrix\n",
    "cm = confusion_matrix(y_test,y_predict)"
   ]
  },
  {
   "cell_type": "code",
   "execution_count": 82,
   "id": "8d1e0dfd",
   "metadata": {},
   "outputs": [
    {
     "data": {
      "text/plain": [
       "array([[221, 333],\n",
       "       [ 27, 541]], dtype=int64)"
      ]
     },
     "execution_count": 82,
     "metadata": {},
     "output_type": "execute_result"
    }
   ],
   "source": [
    "cm"
   ]
  },
  {
   "cell_type": "code",
   "execution_count": 83,
   "id": "97df7f14",
   "metadata": {},
   "outputs": [
    {
     "name": "stdout",
     "output_type": "stream",
     "text": [
      "              precision    recall  f1-score   support\n",
      "\n",
      "           0       0.89      0.40      0.55       554\n",
      "           1       0.62      0.95      0.75       568\n",
      "\n",
      "    accuracy                           0.68      1122\n",
      "   macro avg       0.76      0.68      0.65      1122\n",
      "weighted avg       0.75      0.68      0.65      1122\n",
      "\n"
     ]
    }
   ],
   "source": [
    "from sklearn.metrics import classification_report\n",
    "report = classification_report(y_test,y_predict)\n",
    "print(report)"
   ]
  },
  {
   "cell_type": "code",
   "execution_count": 41,
   "id": "c13e8ed8",
   "metadata": {},
   "outputs": [],
   "source": []
  },
  {
   "cell_type": "code",
   "execution_count": null,
   "id": "a1f0daf8",
   "metadata": {},
   "outputs": [],
   "source": []
  },
  {
   "cell_type": "code",
   "execution_count": null,
   "id": "3a4c1dad",
   "metadata": {},
   "outputs": [],
   "source": []
  },
  {
   "cell_type": "code",
   "execution_count": null,
   "id": "6584cdab",
   "metadata": {},
   "outputs": [],
   "source": []
  }
 ],
 "metadata": {
  "kernelspec": {
   "display_name": "Python 3 (ipykernel)",
   "language": "python",
   "name": "python3"
  },
  "language_info": {
   "codemirror_mode": {
    "name": "ipython",
    "version": 3
   },
   "file_extension": ".py",
   "mimetype": "text/x-python",
   "name": "python",
   "nbconvert_exporter": "python",
   "pygments_lexer": "ipython3",
   "version": "3.10.9"
  }
 },
 "nbformat": 4,
 "nbformat_minor": 5
}
