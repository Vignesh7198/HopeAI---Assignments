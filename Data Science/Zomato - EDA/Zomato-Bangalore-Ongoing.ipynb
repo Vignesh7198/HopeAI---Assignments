{
 "cells": [
  {
   "cell_type": "code",
   "execution_count": null,
   "id": "5a9805e0-6f8e-47f1-9e29-85d83b6d5bc6",
   "metadata": {},
   "outputs": [],
   "source": [
    "import pandas as pd"
   ]
  },
  {
   "cell_type": "code",
   "execution_count": null,
   "id": "b60a75c3-fd27-4c8e-ae9e-bcb9c485f963",
   "metadata": {},
   "outputs": [],
   "source": [
    "dataset = pd.read_csv(\"BangaloreZomatoData.csv\")"
   ]
  },
  {
   "cell_type": "code",
   "execution_count": null,
   "id": "45f04eaf-4436-4eb1-be4b-82ed037dcb14",
   "metadata": {},
   "outputs": [],
   "source": [
    "dataset.head()"
   ]
  },
  {
   "cell_type": "code",
   "execution_count": null,
   "id": "3c66f848-7b50-48fc-ab93-5d41f06d0b12",
   "metadata": {},
   "outputs": [],
   "source": [
    "dataset.info()"
   ]
  },
  {
   "cell_type": "code",
   "execution_count": null,
   "id": "4574f3a4-3331-4ba9-89ad-47f8f54d0592",
   "metadata": {},
   "outputs": [],
   "source": [
    "dataset.shape"
   ]
  },
  {
   "cell_type": "code",
   "execution_count": null,
   "id": "a396cd25-afa7-4931-9c0a-fc432f2c89c7",
   "metadata": {},
   "outputs": [],
   "source": [
    "dataset.drop(columns=[\"URL\",\"PhoneNumber\"])"
   ]
  },
  {
   "cell_type": "code",
   "execution_count": null,
   "id": "1b47d79a-76fe-49e4-9dee-a49f3507e64c",
   "metadata": {},
   "outputs": [],
   "source": [
    "dataset.isnull().sum()"
   ]
  },
  {
   "cell_type": "code",
   "execution_count": null,
   "id": "64ec155a-8a8a-4a64-af82-99d7d4c7eee7",
   "metadata": {},
   "outputs": [],
   "source": [
    "dataset.describe()"
   ]
  },
  {
   "cell_type": "code",
   "execution_count": null,
   "id": "223a7260-366f-4594-b800-03735faeb98b",
   "metadata": {},
   "outputs": [],
   "source": [
    "dataset.columns"
   ]
  },
  {
   "cell_type": "code",
   "execution_count": null,
   "id": "c0693d58-40d2-45b6-8957-d0b9c191affb",
   "metadata": {},
   "outputs": [],
   "source": [
    "pd.set_option('display.max_rows', None)"
   ]
  },
  {
   "cell_type": "code",
   "execution_count": null,
   "id": "5181c556-166d-4b1c-8bad-e6e0356a0a1f",
   "metadata": {
    "scrolled": true
   },
   "outputs": [],
   "source": [
    "dataset[\"Name\"].value_counts()"
   ]
  },
  {
   "cell_type": "code",
   "execution_count": null,
   "id": "f06f1936-ba9b-477d-b54a-dd47d5b410c6",
   "metadata": {},
   "outputs": [],
   "source": [
    "dataset.drop(['URL','PhoneNumber'],axis=1,inplace=True)"
   ]
  },
  {
   "cell_type": "code",
   "execution_count": null,
   "id": "f018cfb3-6890-422c-8688-715626870938",
   "metadata": {},
   "outputs": [],
   "source": [
    "dataset.head()"
   ]
  },
  {
   "cell_type": "code",
   "execution_count": null,
   "id": "58821faf-8a05-4a62-b052-52430ab53baa",
   "metadata": {},
   "outputs": [],
   "source": [
    "dataset.isnull().sum()"
   ]
  },
  {
   "cell_type": "code",
   "execution_count": null,
   "id": "06b0283d-6cac-409b-8ec9-508cca813782",
   "metadata": {},
   "outputs": [],
   "source": [
    "dataset[[\"KnownFor\",\"PopularDishes\",\"PeopleKnownFor\",\"Timing\"]] = dataset[[\"KnownFor\",\"PopularDishes\",\"PeopleKnownFor\",\"Timing\"]].fillna(\"NA\")"
   ]
  },
  {
   "cell_type": "code",
   "execution_count": null,
   "id": "e91f2219-a929-46aa-ad86-8eed614822b3",
   "metadata": {},
   "outputs": [],
   "source": [
    "dataset.isnull().sum()"
   ]
  },
  {
   "cell_type": "code",
   "execution_count": null,
   "id": "501584c8-2cdf-4d2b-84f5-a4af03f553c4",
   "metadata": {},
   "outputs": [],
   "source": [
    "dataset[\"Timing\"].value_counts()"
   ]
  },
  {
   "cell_type": "code",
   "execution_count": null,
   "id": "324866d2-03d2-4fd2-849a-453652ec9809",
   "metadata": {},
   "outputs": [],
   "source": [
    "dataset[\"Timing\"] = dataset[\"Timing\"].str.split(\"(\",n=1,expand=True)[0]"
   ]
  },
  {
   "cell_type": "code",
   "execution_count": null,
   "id": "62c74eca-0014-4516-b4ff-7b7c7938136e",
   "metadata": {},
   "outputs": [],
   "source": [
    "dataset.head()"
   ]
  },
  {
   "cell_type": "code",
   "execution_count": null,
   "id": "6a165a96-e56a-4155-8367-6de3ad3868b5",
   "metadata": {},
   "outputs": [],
   "source": [
    "dataset[\"Timing\"] = dataset[\"Timing\"].str.split(\"(\",n=1,expand=True)[0]"
   ]
  },
  {
   "cell_type": "code",
   "execution_count": null,
   "id": "bbb8ccaa",
   "metadata": {},
   "outputs": [],
   "source": [
    "dataset = dataset[dataset[\"Timing\"].str.contains(\"am\" or \"pm\" or \"noon\" or \"midnight\")]\n",
    "dataset"
   ]
  },
  {
   "cell_type": "code",
   "execution_count": null,
   "id": "e33963d5",
   "metadata": {},
   "outputs": [],
   "source": [
    "timing = dataset['Timing'].str.split(', ')\n",
    "timing"
   ]
  },
  {
   "cell_type": "code",
   "execution_count": null,
   "id": "fe187b8f",
   "metadata": {},
   "outputs": [],
   "source": [
    "arr=[]\n",
    "arr2=[]\n",
    "for time in timing:\n",
    "    if(len(time)>0):\n",
    "        arr.append(time[0])\n",
    "        if(len(time)>1):\n",
    "            arr2.append(time[1])\n",
    "        else:\n",
    "            arr2.append(\"0\")\n",
    "            \n",
    "    else:\n",
    "        arr.append(\"0\")\n",
    "                "
   ]
  },
  {
   "cell_type": "code",
   "execution_count": null,
   "id": "45fb82d7",
   "metadata": {},
   "outputs": [],
   "source": [
    "time = pd.DataFrame({\"Time\":arr,\"Time2\":arr2})"
   ]
  },
  {
   "cell_type": "code",
   "execution_count": null,
   "id": "b3aeae36",
   "metadata": {},
   "outputs": [],
   "source": [
    "time[\"Time\"] = time[\"Time\"].str.replace(\"midnight\",\"am\")\n",
    "time[\"Time2\"] = time[\"Time2\"].str.replace(\"midnight\",\"am\")\n",
    "time[\"Time\"] = time[\"Time\"].str.replace(\"noon\",\"pm\")\n",
    "time[\"Time2\"] = time[\"Time2\"].str.replace(\"noon\",\"pm\")"
   ]
  },
  {
   "cell_type": "code",
   "execution_count": null,
   "id": "e748418a",
   "metadata": {},
   "outputs": [],
   "source": [
    "# time[\"Time\"].unique()\n",
    "\n",
    "time.loc[time[\"Time\"].str.contains(\"at \"),[\"Time\"]] = time[time[\"Time\"].str.contains(\"at \")][\"Time\"].str.replace(r\".* at \",\"\",regex=True)"
   ]
  },
  {
   "cell_type": "code",
   "execution_count": null,
   "id": "19dc2f65",
   "metadata": {},
   "outputs": [],
   "source": [
    "time[\"Time\"].str.contains(\"at\").value_counts()"
   ]
  },
  {
   "cell_type": "code",
   "execution_count": null,
   "id": "32e964a6",
   "metadata": {},
   "outputs": [],
   "source": [
    "time[\"Time\"].value_counts()"
   ]
  },
  {
   "cell_type": "code",
   "execution_count": null,
   "id": "76a8d38f",
   "metadata": {},
   "outputs": [],
   "source": [
    "time.loc[~time[\"Time\"].str.contains(\"–\"),\"Time\"] = time[~time[\"Time\"].str.contains(\"–\")][\"Time\"].str.replace(\"am\",\"\")"
   ]
  },
  {
   "cell_type": "code",
   "execution_count": null,
   "id": "9af17a0a",
   "metadata": {},
   "outputs": [],
   "source": [
    "time.loc[~time[\"Time\"].str.contains(\":|–\" ),\"Time\"]=time[~time[\"Time\"].str.contains(\":|–\" )][\"Time\"]+\":00 am\""
   ]
  },
  {
   "cell_type": "code",
   "execution_count": null,
   "id": "670e905a",
   "metadata": {},
   "outputs": [],
   "source": [
    "time.loc[~time[\"Time\"].str.contains(\"am|pm\"),\"Time\"] = time[~time[\"Time\"].str.contains(\"am|pm\")][\"Time\"].str.strip()+\"am\""
   ]
  },
  {
   "cell_type": "code",
   "execution_count": null,
   "id": "37d53be4",
   "metadata": {},
   "outputs": [],
   "source": [
    "time.loc[time[\"Time\"].str.contains(\" am\"),\"Time\"] = time[time[\"Time\"].str.contains(\" am\")][\"Time\"].str.replace(\" am\",\"am\")"
   ]
  },
  {
   "cell_type": "code",
   "execution_count": null,
   "id": "4956adb4",
   "metadata": {},
   "outputs": [],
   "source": [
    "time[\"Time\"].str.contains(\" am\").value_counts()"
   ]
  },
  {
   "cell_type": "code",
   "execution_count": null,
   "id": "4e5ad876-1b55-4c3d-aefa-36cc2334b30a",
   "metadata": {},
   "outputs": [],
   "source": [
    "time"
   ]
  },
  {
   "cell_type": "code",
   "execution_count": null,
   "id": "3a267a52",
   "metadata": {},
   "outputs": [],
   "source": [
    "array=[]\n",
    "for timesplit in time[\"Time\"]:\n",
    "    if \" – \" in timesplit:\n",
    "        array.append(timesplit.split(\" – \"))\n",
    "    else:\n",
    "        array.append([timesplit])\n",
    "        \n",
    "\n"
   ]
  },
  {
   "cell_type": "code",
   "execution_count": null,
   "id": "50340488",
   "metadata": {},
   "outputs": [],
   "source": [
    "Time1_Split = pd.DataFrame(columns=[\"Open Time 1\",\"Close Time 1\"], data=array)"
   ]
  },
  {
   "cell_type": "code",
   "execution_count": null,
   "id": "ce83f8a6-91d1-4f43-b697-5424b67b2336",
   "metadata": {},
   "outputs": [],
   "source": [
    "time[\"Time2\"].value_counts()"
   ]
  },
  {
   "cell_type": "code",
   "execution_count": null,
   "id": "e33a502d-5104-458a-9172-7096ad6d4363",
   "metadata": {},
   "outputs": [],
   "source": [
    "time.loc[~time[\"Time2\"].str.contains(\":|–\" ),\"Time2\"]=time[~time[\"Time2\"].str.contains(\":|–\" )][\"Time2\"]+\":00 am\"\n",
    "time.loc[~time[\"Time2\"].str.contains(\"am|pm\"),\"Time2\"] = time[~time[\"Time2\"].str.contains(\"am|pm\")][\"Time2\"].str.strip()+\"am\"\n",
    "time.loc[time[\"Time2\"].str.contains(\" am\"),\"Time2\"] = time[time[\"Time2\"].str.contains(\" am\")][\"Time2\"].str.replace(\" am\",\"am\")"
   ]
  },
  {
   "cell_type": "code",
   "execution_count": null,
   "id": "4333f382-b4de-40e7-acf0-0764e2baf74b",
   "metadata": {},
   "outputs": [],
   "source": [
    "array2=[]\n",
    "for timesplit in time[\"Time2\"]:\n",
    "    if \" – \" in timesplit:\n",
    "        array2.append(timesplit.split(\" – \"))\n",
    "    else:\n",
    "        array2.append([timesplit])\n",
    "        "
   ]
  },
  {
   "cell_type": "code",
   "execution_count": null,
   "id": "4d2e4c39-3b63-41e0-8693-85cd82b0d4ab",
   "metadata": {},
   "outputs": [],
   "source": [
    "Time2_Split = pd.DataFrame(columns=[\"Open Time 2\",\"Close Time 2\"], data=array2)\n",
    "Time2_Split"
   ]
  },
  {
   "cell_type": "code",
   "execution_count": null,
   "id": "27dbc332-f7dc-41f4-bc28-861e4e3a65ea",
   "metadata": {},
   "outputs": [],
   "source": [
    "for i in range(len(Time2_Split[\"Open Time 2\"])):\n",
    "    time=Time2_Split[\"Open Time 2\"][i]\n",
    "    if \":\" not in time:\n",
    "        if(\"am\" in time):\n",
    "           Time2_Split[\"Open Time 2\"][i]=time.replace(\"am\",\":00am\")\n",
    "        if(\"pm\" in time):\n",
    "           Time2_Split[\"Open Time 2\"][i]=time.replace(\"pm\",\":00pm\")"
   ]
  },
  {
   "cell_type": "code",
   "execution_count": null,
   "id": "92c6f16b-26fb-4d15-81b6-00333c63f712",
   "metadata": {
    "scrolled": true
   },
   "outputs": [],
   "source": [
    "Time2_Split[\"Open Time 2\"].value_counts()"
   ]
  },
  {
   "cell_type": "code",
   "execution_count": null,
   "id": "c048d4f1-ff2e-4c78-8cbd-0a1dd71e8be4",
   "metadata": {},
   "outputs": [],
   "source": [
    "Time2_Split[\"Close Time 2\"] = Time2_Split[\"Close Time 2\"].astype(str)"
   ]
  },
  {
   "cell_type": "code",
   "execution_count": null,
   "id": "78f7c11f-b5de-4780-b8a6-c934f1974210",
   "metadata": {},
   "outputs": [],
   "source": [
    "for i in range(len(Time2_Split[\"Close Time 2\"])):\n",
    "    time=Time2_Split[\"Close Time 2\"][i]\n",
    "    if \":\" not in time:\n",
    "        if(\"am\" in time):\n",
    "           Time2_Split[\"Close Time 2\"][i]=time.replace(\"am\",\":00am\")\n",
    "        if(\"pm\" in time):\n",
    "           Time2_Split[\"Close Time 2\"][i]=time.replace(\"pm\",\":00pm\")"
   ]
  },
  {
   "cell_type": "code",
   "execution_count": null,
   "id": "f7ffc867-fdba-4d5e-8591-19f18ef2e9b1",
   "metadata": {
    "scrolled": true
   },
   "outputs": [],
   "source": [
    "Time2_Split[\"Close Time 2\"].value_counts()"
   ]
  },
  {
   "cell_type": "code",
   "execution_count": null,
   "id": "e7f3bf12-c62c-44db-9a8d-cedd4df92ee8",
   "metadata": {},
   "outputs": [],
   "source": [
    "Time1_Split"
   ]
  },
  {
   "cell_type": "code",
   "execution_count": null,
   "id": "716d72a7-2f80-470d-9add-d4616aa89192",
   "metadata": {},
   "outputs": [],
   "source": [
    "# Time1_Split[\"Open Time 1\"] = pd.to_datetime(Time1_Split[\"Open Time 1\"],format=\"%I:%M%p\", errors='coerce').dt.time"
   ]
  },
  {
   "cell_type": "code",
   "execution_count": null,
   "id": "721d5e6f-c8e0-4ecf-a51c-6059755be667",
   "metadata": {},
   "outputs": [],
   "source": [
    "# Time1_Split[\"Close Time 1\"] = pd.to_datetime(Time1_Split[\"Close Time 1\"],format=\"%I:%M%p\", errors='coerce').dt.time"
   ]
  },
  {
   "cell_type": "code",
   "execution_count": null,
   "id": "c45ad813-22d9-4214-9b28-71b5b37bdeaa",
   "metadata": {},
   "outputs": [],
   "source": [
    "Time2_Split[\"Open Time 2\"] = pd.to_datetime(Time2_Split[\"Open Time 2\"],format=\"%I:%M%p\", errors='coerce').dt.time"
   ]
  },
  {
   "cell_type": "code",
   "execution_count": null,
   "id": "27bfb44e-dd6d-4af0-a4fb-005fb732b321",
   "metadata": {},
   "outputs": [],
   "source": [
    "Time2_Split[\"Close Time 2\"] = pd.to_datetime(Time2_Split[\"Close Time 2\"],format=\"%I:%M%p\", errors='coerce').dt.time"
   ]
  },
  {
   "cell_type": "code",
   "execution_count": null,
   "id": "711f58ce-18a6-425d-8504-17f662d40041",
   "metadata": {},
   "outputs": [],
   "source": [
    "Time1_Split[\"Open Time 1\"]"
   ]
  },
  {
   "cell_type": "code",
   "execution_count": null,
   "id": "3b5e928b",
   "metadata": {},
   "outputs": [],
   "source": [
    "Time1_Split[\"Close Time 1\"]"
   ]
  },
  {
   "cell_type": "code",
   "execution_count": null,
   "id": "1118ddea-519f-4bb9-b4fa-06a4171b6b24",
   "metadata": {},
   "outputs": [],
   "source": [
    "Time1_Split[\"Open Time 1\"] = Time1_Split[\"Open Time 1\"].astype(str).str.strip()\n",
    "for i in range(len(Time1_Split[\"Open Time 1\"])):\n",
    "    time=Time1_Split[\"Open Time 1\"][i]\n",
    "    if \":\" not in time:\n",
    "        if(\"am\" in time):\n",
    "           Time1_Split[\"Open Time 1\"][i]=time.replace(\"am\",\":00am\")\n",
    "        if(\"pm\" in time):\n",
    "           Time1_Split[\"Open Time 1\"][i]=time.replace(\"pm\",\":00pm\")\n"
   ]
  },
  {
   "cell_type": "code",
   "execution_count": null,
   "id": "79c0444f",
   "metadata": {},
   "outputs": [],
   "source": [
    "Time1_Split[\"Open Time 1\"]"
   ]
  },
  {
   "cell_type": "code",
   "execution_count": null,
   "id": "beb81424",
   "metadata": {},
   "outputs": [],
   "source": [
    "Time1_Split[\"Close Time 1\"] = Time1_Split[\"Close Time 1\"].astype(str).str.strip()"
   ]
  },
  {
   "cell_type": "code",
   "execution_count": null,
   "id": "00cb2cf7",
   "metadata": {},
   "outputs": [],
   "source": [
    "for i in range(len(Time1_Split[\"Close Time 1\"])):\n",
    "    time=Time1_Split[\"Close Time 1\"][i]\n",
    "    if \":\" not in time:\n",
    "        if(\"am\" in time):\n",
    "           Time1_Split[\"Close Time 1\"][i]=time.replace(\"am\",\":00am\")\n",
    "        if(\"pm\" in time):\n",
    "           Time1_Split[\"Close Time 1\"][i]=time.replace(\"pm\",\":00pm\")"
   ]
  },
  {
   "cell_type": "code",
   "execution_count": null,
   "id": "ee0eea84",
   "metadata": {},
   "outputs": [],
   "source": [
    "Time1_Split[\"Open Time 1\"] = pd.to_datetime(Time1_Split[\"Open Time 1\"],format=\"%I:%M%p\", errors='coerce').dt.time\n",
    "Time1_Split[\"Close Time 1\"] = pd.to_datetime(Time1_Split[\"Close Time 1\"],format=\"%I:%M%p\", errors='coerce').dt.time"
   ]
  },
  {
   "cell_type": "code",
   "execution_count": null,
   "id": "6cac262f",
   "metadata": {},
   "outputs": [],
   "source": [
    "Time1_Split[\"Close Time 1\"]"
   ]
  },
  {
   "cell_type": "code",
   "execution_count": null,
   "id": "c5ea1835",
   "metadata": {},
   "outputs": [],
   "source": [
    "Time2_Split"
   ]
  },
  {
   "cell_type": "code",
   "execution_count": null,
   "id": "2fbe481a",
   "metadata": {},
   "outputs": [],
   "source": [
    "pd.concat([dataset,Time1_Split,Time2_Split],axis=1)"
   ]
  },
  {
   "cell_type": "code",
   "execution_count": null,
   "id": "e11bf3c9",
   "metadata": {},
   "outputs": [],
   "source": [
    "from datetime import datetime,timedelta\n",
    "def time_conversion(t):\n",
    "    if pd.notna(t):\n",
    "        return timedelta(hours=t.hour,minutes=t.minute, seconds=t.second)\n",
    "open_time1 = Time1_Split[\"Open Time 1\"].apply(lambda t : timedelta(hours=t.hour,minutes=t.minute, seconds=t.second))\n",
    "close_time1 = Time1_Split[\"Close Time 1\"].apply(time_conversion)"
   ]
  },
  {
   "cell_type": "code",
   "execution_count": null,
   "id": "6f2a2ab6",
   "metadata": {},
   "outputs": [],
   "source": [
    "time_difference = close_time1-open_time1\n",
    "time_difference"
   ]
  },
  {
   "cell_type": "code",
   "execution_count": null,
   "id": "945e4266",
   "metadata": {},
   "outputs": [],
   "source": [
    "time_delay = time_difference.apply(lambda x : x+timedelta(days=1) if(x.days<0) else x)\n",
    "# time_delay.apply(lambda x:f\"{x.seconds//3600}h {x.seconds%3600//60}m\")\n",
    "time_delay"
   ]
  },
  {
   "cell_type": "code",
   "execution_count": null,
   "id": "59d57c68",
   "metadata": {},
   "outputs": [],
   "source": [
    "(time_delay.dt.seconds//3600 + time_delay.dt.seconds%60)/60"
   ]
  },
  {
   "cell_type": "code",
   "execution_count": null,
   "id": "1bd2ea13",
   "metadata": {},
   "outputs": [],
   "source": []
  }
 ],
 "metadata": {
  "kernelspec": {
   "display_name": "Python 3 (ipykernel)",
   "language": "python",
   "name": "python3"
  },
  "language_info": {
   "codemirror_mode": {
    "name": "ipython",
    "version": 3
   },
   "file_extension": ".py",
   "mimetype": "text/x-python",
   "name": "python",
   "nbconvert_exporter": "python",
   "pygments_lexer": "ipython3",
   "version": "3.10.9"
  }
 },
 "nbformat": 4,
 "nbformat_minor": 5
}
