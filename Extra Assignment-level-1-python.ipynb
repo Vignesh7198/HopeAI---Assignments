{
 "cells": [
  {
   "cell_type": "code",
   "execution_count": 1,
   "id": "56e17d60",
   "metadata": {},
   "outputs": [
    {
     "name": "stdout",
     "output_type": "stream",
     "text": [
      "HOPE AI\n"
     ]
    }
   ],
   "source": [
    "print(\"HOPE AI\")"
   ]
  },
  {
   "cell_type": "code",
   "execution_count": 2,
   "id": "600b74da",
   "metadata": {},
   "outputs": [
    {
     "name": "stdout",
     "output_type": "stream",
     "text": [
      "Enter your institute name? : HOPE AI\n"
     ]
    },
    {
     "data": {
      "text/plain": [
       "'HOPE AI'"
      ]
     },
     "execution_count": 2,
     "metadata": {},
     "output_type": "execute_result"
    }
   ],
   "source": [
    "input(\"Enter your institute name? : \")"
   ]
  },
  {
   "cell_type": "code",
   "execution_count": 4,
   "id": "9162e8df",
   "metadata": {},
   "outputs": [
    {
     "name": "stdout",
     "output_type": "stream",
     "text": [
      "Enter your name: Raj\n",
      "Enter your age: 15\n",
      "Enter your school name: Guru school\n",
      "Enter your degree: B.E. CSE\n"
     ]
    },
    {
     "data": {
      "text/plain": [
       "'B.E. CSE'"
      ]
     },
     "execution_count": 4,
     "metadata": {},
     "output_type": "execute_result"
    }
   ],
   "source": [
    "input('Enter your name: ')\n",
    "input('Enter your age: ')\n",
    "input('Enter your school name: ')\n",
    "input('Enter your degree: ')"
   ]
  },
  {
   "cell_type": "code",
   "execution_count": 8,
   "id": "4e662fb0",
   "metadata": {},
   "outputs": [
    {
     "name": "stdout",
     "output_type": "stream",
     "text": [
      "a= 43\n",
      "b= 34\n",
      "add = 77\n"
     ]
    }
   ],
   "source": [
    "a=43\n",
    "b=34\n",
    "add=a+b\n",
    "print(f'a= '+str(a)+'\\nb= '+str(b)+'\\nadd = '+str(add))"
   ]
  },
  {
   "cell_type": "code",
   "execution_count": 9,
   "id": "d8bd267a",
   "metadata": {},
   "outputs": [
    {
     "name": "stdout",
     "output_type": "stream",
     "text": [
      "a= 43\n",
      "b= 34\n",
      "Sub = 9\n"
     ]
    }
   ],
   "source": [
    "a=43\n",
    "b=34\n",
    "sub=a-b\n",
    "print(f'a= '+str(a)+'\\nb= '+str(b)+'\\nSub = '+str(sub))"
   ]
  },
  {
   "cell_type": "code",
   "execution_count": 12,
   "id": "44e6a2a2",
   "metadata": {},
   "outputs": [
    {
     "name": "stdout",
     "output_type": "stream",
     "text": [
      "a= 63\n",
      "b= 97\n",
      "Mul = 6111\n"
     ]
    }
   ],
   "source": [
    "a=63\n",
    "b=97\n",
    "mul=a*b\n",
    "print(f'a= '+str(a)+'\\nb= '+str(b)+'\\nMul = '+str(mul))"
   ]
  },
  {
   "cell_type": "code",
   "execution_count": 11,
   "id": "aad1c9b5",
   "metadata": {},
   "outputs": [
    {
     "name": "stdout",
     "output_type": "stream",
     "text": [
      "a= 76\n",
      "b= 31\n",
      "Div= 2.4516129032258065\n"
     ]
    }
   ],
   "source": [
    "a=76\n",
    "b=31\n",
    "div=a/b\n",
    "print(f'a= '+str(a)+'\\nb= '+str(b)+'\\nDiv= '+str(div))"
   ]
  },
  {
   "cell_type": "code",
   "execution_count": 18,
   "id": "fe2c1a69",
   "metadata": {},
   "outputs": [
    {
     "name": "stdout",
     "output_type": "stream",
     "text": [
      "a= 76\n",
      "b= 31\n",
      "Floor Div = 2\n"
     ]
    }
   ],
   "source": [
    "import math\n",
    "a=76\n",
    "b=31\n",
    "floor=math.floor(a/b)\n",
    "print(f'a= '+str(a)+'\\nb= '+str(b)+'\\nFloor Div = '+str(floor))"
   ]
  },
  {
   "cell_type": "code",
   "execution_count": 23,
   "id": "5da1b3d8",
   "metadata": {},
   "outputs": [
    {
     "name": "stdout",
     "output_type": "stream",
     "text": [
      "a= 76\n",
      "b= 31\n",
      "Modulo = 14\n"
     ]
    }
   ],
   "source": [
    "a=76\n",
    "b=31\n",
    "modulo=a%b\n",
    "print(f'a= '+str(a)+'\\nb= '+str(b)+'\\nModulo = '+str(modulo))"
   ]
  },
  {
   "cell_type": "code",
   "execution_count": 24,
   "id": "cf98495b",
   "metadata": {},
   "outputs": [
    {
     "name": "stdout",
     "output_type": "stream",
     "text": [
      "a= 4\n",
      "b= 4\n",
      "Power= 256\n"
     ]
    }
   ],
   "source": [
    "a=4\n",
    "b=4\n",
    "power=a**b\n",
    "print(f'a= '+str(a)+'\\nb= '+str(b)+'\\nPower= '+str(power))"
   ]
  },
  {
   "cell_type": "code",
   "execution_count": null,
   "id": "d2644522",
   "metadata": {},
   "outputs": [],
   "source": []
  }
 ],
 "metadata": {
  "kernelspec": {
   "display_name": "Python 3 (ipykernel)",
   "language": "python",
   "name": "python3"
  },
  "language_info": {
   "codemirror_mode": {
    "name": "ipython",
    "version": 3
   },
   "file_extension": ".py",
   "mimetype": "text/x-python",
   "name": "python",
   "nbconvert_exporter": "python",
   "pygments_lexer": "ipython3",
   "version": "3.10.9"
  }
 },
 "nbformat": 4,
 "nbformat_minor": 5
}
