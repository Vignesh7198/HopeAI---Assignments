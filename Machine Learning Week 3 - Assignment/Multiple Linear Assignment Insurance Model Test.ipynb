{
 "cells": [
  {
   "cell_type": "code",
   "execution_count": 2,
   "id": "096b6c77-9016-4654-8de9-3dd25f092d03",
   "metadata": {},
   "outputs": [],
   "source": [
    "import pickle"
   ]
  },
  {
   "cell_type": "code",
   "execution_count": 8,
   "id": "c6bfb17e-a0f3-447c-adaf-f6f823122971",
   "metadata": {},
   "outputs": [],
   "source": [
    "model = pickle.load(open('multiplelinearregressioninsurancemodel.sav','rb'))"
   ]
  },
  {
   "cell_type": "code",
   "execution_count": 10,
   "id": "e94cd794-0fce-4f68-a203-3ef74be41894",
   "metadata": {},
   "outputs": [
    {
     "name": "stderr",
     "output_type": "stream",
     "text": [
      "C:\\Users\\vignesh_s\\AppData\\Local\\anaconda3\\Lib\\site-packages\\sklearn\\base.py:493: UserWarning: X does not have valid feature names, but LinearRegression was fitted with feature names\n",
      "  warnings.warn(\n"
     ]
    },
    {
     "data": {
      "text/plain": [
       "array([[27268.07376376]])"
      ]
     },
     "execution_count": 10,
     "metadata": {},
     "output_type": "execute_result"
    }
   ],
   "source": [
    "model.predict([[19,29.900,3,0,1]])"
   ]
  },
  {
   "cell_type": "code",
   "execution_count": null,
   "id": "be4b2758-68c8-49d7-84a2-a30baf5ad37d",
   "metadata": {},
   "outputs": [],
   "source": []
  }
 ],
 "metadata": {
  "kernelspec": {
   "display_name": "Python 3 (ipykernel)",
   "language": "python",
   "name": "python3"
  },
  "language_info": {
   "codemirror_mode": {
    "name": "ipython",
    "version": 3
   },
   "file_extension": ".py",
   "mimetype": "text/x-python",
   "name": "python",
   "nbconvert_exporter": "python",
   "pygments_lexer": "ipython3",
   "version": "3.12.4"
  }
 },
 "nbformat": 4,
 "nbformat_minor": 5
}
