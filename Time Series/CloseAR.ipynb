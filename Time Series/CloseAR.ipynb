{
 "cells": [
  {
   "cell_type": "code",
   "execution_count": 1,
   "id": "2828ec59",
   "metadata": {},
   "outputs": [],
   "source": [
    "import pandas as pd\n",
    "import datetime as dt"
   ]
  },
  {
   "cell_type": "code",
   "execution_count": 2,
   "id": "19777583",
   "metadata": {},
   "outputs": [],
   "source": [
    "stk_data = pd.read_csv(\"Tatacoffee13_21.csv\", index_col=\"Date\")"
   ]
  },
  {
   "cell_type": "markdown",
   "id": "28438648",
   "metadata": {},
   "source": [
    "## Standardization "
   ]
  },
  {
   "cell_type": "code",
   "execution_count": 3,
   "id": "fc39cc9f",
   "metadata": {},
   "outputs": [],
   "source": [
    "column=\"Close\""
   ]
  },
  {
   "cell_type": "code",
   "execution_count": 4,
   "id": "45fe80f2",
   "metadata": {},
   "outputs": [],
   "source": [
    "from sklearn.preprocessing import MinMaxScaler"
   ]
  },
  {
   "cell_type": "code",
   "execution_count": 5,
   "id": "e0f6da8a",
   "metadata": {},
   "outputs": [],
   "source": [
    "Ms = MinMaxScaler()"
   ]
  },
  {
   "cell_type": "code",
   "execution_count": 6,
   "id": "e0f621bd",
   "metadata": {},
   "outputs": [],
   "source": [
    "data1 = Ms.fit_transform(stk_data[[column]])"
   ]
  },
  {
   "cell_type": "code",
   "execution_count": 7,
   "id": "6643a75a",
   "metadata": {},
   "outputs": [
    {
     "data": {
      "text/plain": [
       "(2225, 1)"
      ]
     },
     "execution_count": 7,
     "metadata": {},
     "output_type": "execute_result"
    }
   ],
   "source": [
    "data1.shape"
   ]
  },
  {
   "cell_type": "markdown",
   "id": "1a70721c",
   "metadata": {},
   "source": [
    "## Train Test Split"
   ]
  },
  {
   "cell_type": "code",
   "execution_count": 8,
   "id": "4b1dfcdf",
   "metadata": {},
   "outputs": [],
   "source": [
    "training_size = round(len(data1)*0.80)"
   ]
  },
  {
   "cell_type": "code",
   "execution_count": 9,
   "id": "7dc4a371",
   "metadata": {},
   "outputs": [
    {
     "name": "stdout",
     "output_type": "stream",
     "text": [
      "1780\n"
     ]
    }
   ],
   "source": [
    "print(training_size)"
   ]
  },
  {
   "cell_type": "code",
   "execution_count": 10,
   "id": "779118b6",
   "metadata": {},
   "outputs": [],
   "source": [
    "x_train = data1[:training_size]"
   ]
  },
  {
   "cell_type": "code",
   "execution_count": 11,
   "id": "6cd18ed7",
   "metadata": {},
   "outputs": [],
   "source": [
    "x_test = data1[training_size:]"
   ]
  },
  {
   "cell_type": "code",
   "execution_count": 12,
   "id": "c5ef1d23",
   "metadata": {},
   "outputs": [],
   "source": [
    "y_train=data1[:training_size]"
   ]
  },
  {
   "cell_type": "code",
   "execution_count": 13,
   "id": "2241fc1d",
   "metadata": {},
   "outputs": [],
   "source": [
    "y_test = data1[training_size:]"
   ]
  },
  {
   "cell_type": "markdown",
   "id": "b6215572",
   "metadata": {},
   "source": [
    "## Model Training and Evaluation"
   ]
  },
  {
   "cell_type": "code",
   "execution_count": 14,
   "id": "71af0b3f",
   "metadata": {
    "scrolled": true
   },
   "outputs": [
    {
     "name": "stdout",
     "output_type": "stream",
     "text": [
      "Lag=1, Tend=n\n",
      "RMSE-Testset: 0.058859347313836866\n",
      "*********************************\n",
      "Lag=1, Tend=t\n",
      "RMSE-Testset: 0.0656730653670739\n",
      "*********************************\n",
      "Lag=1, Tend=c\n",
      "RMSE-Testset: 0.043365250337633665\n",
      "*********************************\n",
      "Lag=1, Tend=ct\n",
      "RMSE-Testset: 0.15273694386322012\n",
      "*********************************\n",
      "Lag=2, Tend=n\n",
      "RMSE-Testset: 0.059469572437784286\n",
      "*********************************\n",
      "Lag=2, Tend=t\n",
      "RMSE-Testset: 0.053333877982381574\n",
      "*********************************\n",
      "Lag=2, Tend=c\n",
      "RMSE-Testset: 0.034871543649433054\n",
      "*********************************\n",
      "Lag=2, Tend=ct\n",
      "RMSE-Testset: 0.15147077869434009\n",
      "*********************************\n",
      "Lag=3, Tend=n\n",
      "RMSE-Testset: 0.05944295500377273\n",
      "*********************************\n",
      "Lag=3, Tend=t\n",
      "RMSE-Testset: 0.053497989920487654\n",
      "*********************************\n",
      "Lag=3, Tend=c\n",
      "RMSE-Testset: 0.03603799252424545\n",
      "*********************************\n",
      "Lag=3, Tend=ct\n",
      "RMSE-Testset: 0.14723515340669033\n",
      "*********************************\n",
      "Lag=4, Tend=n\n",
      "RMSE-Testset: 0.05930752124236654\n",
      "*********************************\n",
      "Lag=4, Tend=t\n",
      "RMSE-Testset: 0.05608550445606841\n",
      "*********************************\n",
      "Lag=4, Tend=c\n",
      "RMSE-Testset: 0.0379703578787768\n",
      "*********************************\n",
      "Lag=4, Tend=ct\n",
      "RMSE-Testset: 0.14690113641761657\n",
      "*********************************\n"
     ]
    }
   ],
   "source": [
    "from sklearn.metrics import mean_squared_error\n",
    "tends = ['n','t','c','ct']\n",
    "lags = [1,2,3,4]\n",
    "from statsmodels.tsa.ar_model import AutoReg\n",
    "for i in lags:\n",
    "    for td in tends:\n",
    "        model = AutoReg(x_train, lags=i,trend=td)\n",
    "        model_fit = model.fit()\n",
    "        y_pred = model_fit.predict(len(x_train), len(data1)-1)\n",
    "        from stockFunctions import rmsemape\n",
    "        print(f'Lag={i}, Tend={td}')\n",
    "        rmsemape(y_test,y_pred)\n",
    "        print(\"*********************************\")"
   ]
  },
  {
   "cell_type": "code",
   "execution_count": 15,
   "id": "18bf6fe3",
   "metadata": {},
   "outputs": [
    {
     "name": "stdout",
     "output_type": "stream",
     "text": [
      "Lag=2,Trend=c\n",
      "RMSE-Testset: 0.034871543649433054\n",
      "************\n"
     ]
    }
   ],
   "source": [
    "i=2\n",
    "td='c'\n",
    "model = AutoReg(x_train, lags=i,trend=td)\n",
    "model_fit = model.fit()\n",
    "# make prediction\n",
    "y_pred= model_fit.predict(len(x_train), len(data1)-1)\n",
    "#print(y_pred)\n",
    "from sklearn.metrics import r2_score\n",
    "mse=mean_squared_error(y_test,y_pred,squared=False)\n",
    "from stockFunctions import rmsemape\n",
    "print(\"Lag={},Trend={}\".format(i,td))\n",
    "rmsemape(y_test,y_pred)\n",
    "print(\"************\")"
   ]
  },
  {
   "cell_type": "code",
   "execution_count": 16,
   "id": "f8701bbb",
   "metadata": {
    "scrolled": true
   },
   "outputs": [
    {
     "data": {
      "image/png": "[encoded data removed]",
      "text/plain": [
       "<Figure size 1000x500 with 1 Axes>"
      ]
     },
     "metadata": {},
     "output_type": "display_data"
    }
   ],
   "source": [
    "from stockFunctions import graph\n",
    "graph(y_test,y_pred,\"Actual\",\"Predicted\",\"TataCoffee-Close-AR-Norm\",\"Days\",\"Prices\")"
   ]
  },
  {
   "cell_type": "code",
   "execution_count": 17,
   "id": "c46e7c03",
   "metadata": {},
   "outputs": [],
   "source": [
    "forecast=model_fit.predict(len(data1), len(data1)+3)"
   ]
  },
  {
   "cell_type": "code",
   "execution_count": 18,
   "id": "ff9a9776",
   "metadata": {},
   "outputs": [
    {
     "data": {
      "text/plain": [
       "array([0.04156393, 0.04159358, 0.04162314, 0.0416526 ])"
      ]
     },
     "execution_count": 18,
     "metadata": {},
     "output_type": "execute_result"
    }
   ],
   "source": [
    "forecast"
   ]
  },
  {
   "cell_type": "code",
   "execution_count": 19,
   "id": "6028254b",
   "metadata": {},
   "outputs": [],
   "source": [
    "from stockFunctions import conversionSingle\n",
    "fTestNormTable=conversionSingle(forecast,[\"Closefore\"])\n",
    "forecast_stock_price_test_ori=Ms.inverse_transform(fTestNormTable)\n",
    "forecast_stock_price_test_oriF=conversionSingle(forecast_stock_price_test_ori,[\"Closefore\"])"
   ]
  },
  {
   "cell_type": "code",
   "execution_count": 20,
   "id": "528999a4",
   "metadata": {},
   "outputs": [
    {
     "data": {
      "text/html": [
       "<div>\n",
       "<style scoped>\n",
       "    .dataframe tbody tr th:only-of-type {\n",
       "        vertical-align: middle;\n",
       "    }\n",
       "\n",
       "    .dataframe tbody tr th {\n",
       "        vertical-align: top;\n",
       "    }\n",
       "\n",
       "    .dataframe thead th {\n",
       "        text-align: right;\n",
       "    }\n",
       "</style>\n",
       "<table border=\"1\" class=\"dataframe\">\n",
       "  <thead>\n",
       "    <tr style=\"text-align: right;\">\n",
       "      <th></th>\n",
       "      <th>Closefore</th>\n",
       "    </tr>\n",
       "  </thead>\n",
       "  <tbody>\n",
       "    <tr>\n",
       "      <th>0</th>\n",
       "      <td>115.852408</td>\n",
       "    </tr>\n",
       "    <tr>\n",
       "      <th>1</th>\n",
       "      <td>115.899822</td>\n",
       "    </tr>\n",
       "    <tr>\n",
       "      <th>2</th>\n",
       "      <td>115.947078</td>\n",
       "    </tr>\n",
       "    <tr>\n",
       "      <th>3</th>\n",
       "      <td>115.994175</td>\n",
       "    </tr>\n",
       "  </tbody>\n",
       "</table>\n",
       "</div>"
      ],
      "text/plain": [
       "    Closefore\n",
       "0  115.852408\n",
       "1  115.899822\n",
       "2  115.947078\n",
       "3  115.994175"
      ]
     },
     "execution_count": 20,
     "metadata": {},
     "output_type": "execute_result"
    }
   ],
   "source": [
    "forecast_stock_price_test_oriF"
   ]
  },
  {
   "cell_type": "code",
   "execution_count": null,
   "id": "9beabe10",
   "metadata": {},
   "outputs": [],
   "source": []
  }
 ],
 "metadata": {
  "kernelspec": {
   "display_name": "Python 3 (ipykernel)",
   "language": "python",
   "name": "python3"
  },
  "language_info": {
   "codemirror_mode": {
    "name": "ipython",
    "version": 3
   },
   "file_extension": ".py",
   "mimetype": "text/x-python",
   "name": "python",
   "nbconvert_exporter": "python",
   "pygments_lexer": "ipython3",
   "version": "3.10.9"
  }
 },
 "nbformat": 4,
 "nbformat_minor": 5
}
