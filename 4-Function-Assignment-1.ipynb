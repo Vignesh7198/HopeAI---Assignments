{
 "cells": [
  {
   "cell_type": "code",
   "execution_count": 1,
   "id": "1cdffd7a-a4a7-410d-890f-68125c10036e",
   "metadata": {},
   "outputs": [],
   "source": [
    "class SubfieldsInAI:\n",
    "    def subfields():\n",
    "        print(\"Sub-fields in AI are:\")\n",
    "        li = [\"Machine Learning\",\"Neural Networks\",\"Vision\",\"Robotics\",\"Speech Processing\",\"Natural Language Processing\"]\n",
    "        for lis in li:\n",
    "            print(lis)"
   ]
  },
  {
   "cell_type": "code",
   "execution_count": 3,
   "id": "4d611378-81c8-461b-917b-e7d12908a738",
   "metadata": {},
   "outputs": [
    {
     "name": "stdout",
     "output_type": "stream",
     "text": [
      "Sub-fields in AI are:\n",
      "Machine Learning\n",
      "Neural Networks\n",
      "Vision\n",
      "Robotics\n",
      "Speech Processing\n",
      "Natural Language Processing\n"
     ]
    }
   ],
   "source": [
    "SubfieldsInAI.subfields()"
   ]
  },
  {
   "cell_type": "code",
   "execution_count": 5,
   "id": "1fd0f589-36ac-4315-a33a-ebb1eb6df1d9",
   "metadata": {},
   "outputs": [],
   "source": [
    "class OddEven:\n",
    "    def OddEven():\n",
    "        num = int(input(\"Enter a number: \"))\n",
    "        if(num%2==0):\n",
    "            print(f\"{num} is Even number\")\n",
    "        else:\n",
    "            print(f\"{num} is Odd number\")"
   ]
  },
  {
   "cell_type": "code",
   "execution_count": 7,
   "id": "709ff9f1-da61-441d-a99e-286e661f9286",
   "metadata": {},
   "outputs": [
    {
     "name": "stdin",
     "output_type": "stream",
     "text": [
      "Enter a number:  52452\n"
     ]
    },
    {
     "name": "stdout",
     "output_type": "stream",
     "text": [
      "52452 is Even number\n"
     ]
    }
   ],
   "source": [
    "OddEven.OddEven()"
   ]
  },
  {
   "cell_type": "code",
   "execution_count": 9,
   "id": "1b3877e1-7295-49ba-b0a5-cbc54735e0b0",
   "metadata": {},
   "outputs": [],
   "source": [
    "class ElegiblityForMarriage:\n",
    "    def Elegible():\n",
    "        gender = input(\"Your Gender:\").lower()\n",
    "        age = int(input(\"Your Age:\"))\n",
    "        if(gender==\"male\"):\n",
    "            if(age<21):\n",
    "                print(\"Not Eligible\")\n",
    "            else:\n",
    "                print(\"Eligible\")\n",
    "        elif(gender==\"female\"):\n",
    "            if(age<18):\n",
    "                print(\"Not Eligible\")\n",
    "            else:\n",
    "                print(\"Eligible\")\n",
    "        else:\n",
    "            print(\"Enter either male or female\")\n",
    "            "
   ]
  },
  {
   "cell_type": "code",
   "execution_count": 19,
   "id": "3d013725-5c38-4a94-b5ce-f3f3d9ce51eb",
   "metadata": {},
   "outputs": [
    {
     "name": "stdin",
     "output_type": "stream",
     "text": [
      "Your Gender: Male\n",
      "Your Age: 20\n"
     ]
    },
    {
     "name": "stdout",
     "output_type": "stream",
     "text": [
      "Not Eligible\n"
     ]
    }
   ],
   "source": [
    "ElegiblityForMarriage.Elegible();"
   ]
  },
  {
   "cell_type": "code",
   "execution_count": 31,
   "id": "09f93710-33f1-4f14-858a-fb31a610d9cf",
   "metadata": {},
   "outputs": [],
   "source": [
    "class FindPercent:\n",
    "   def percentage():\n",
    "       sum = 0;\n",
    "       for i in range(0,5):\n",
    "         sum=sum+int(input(f\"Subject{i+1}\"))\n",
    "\n",
    "       print(f\"Total : {sum}\")\n",
    "       print(f\"Percentage : {sum/5}\")"
   ]
  },
  {
   "cell_type": "code",
   "execution_count": 29,
   "id": "96475617-1df2-40af-bfbe-0214374964ba",
   "metadata": {},
   "outputs": [
    {
     "name": "stdin",
     "output_type": "stream",
     "text": [
      "Subject1 98\n",
      "Subject2 87\n",
      "Subject3 95\n",
      "Subject4 95\n",
      "Subject5 93\n"
     ]
    },
    {
     "name": "stdout",
     "output_type": "stream",
     "text": [
      "Total :468\n",
      "Percentage :93.6\n"
     ]
    }
   ],
   "source": [
    "FindPercent.percentage()"
   ]
  },
  {
   "cell_type": "code",
   "execution_count": 39,
   "id": "0b07b3a8-0ab8-4c73-a516-8ae5cc10c71a",
   "metadata": {},
   "outputs": [],
   "source": [
    "class triangle:\n",
    "    def triangle():\n",
    "        height = int(input(\"Height:\"))\n",
    "        breadth = int(input(\"Breadth\"))\n",
    "        area = (height*breadth)/2\n",
    "        print(\"Area formula: (Height*Breadth)/2\")\n",
    "        print(f\"Area of Triangle: {area}\")\n",
    "        height1 = int(input(\"Height1:\"))\n",
    "        height2 = int(input(\"Height2:\"))\n",
    "        breadth = int(input(\"Breadth:\"))\n",
    "        perimeter = height1+height2+breadth\n",
    "        print(\"Perimeter formula: Height1+Height2+Breadth\")\n",
    "        print(f\"Perimeter of Triangle: {perimeter}\")\n",
    "\n",
    "\n",
    "        "
   ]
  },
  {
   "cell_type": "code",
   "execution_count": 41,
   "id": "46daabea-7ec3-41d0-a701-48da1b47c035",
   "metadata": {},
   "outputs": [
    {
     "name": "stdin",
     "output_type": "stream",
     "text": [
      "Height: 32\n",
      "Breadth 34\n"
     ]
    },
    {
     "name": "stdout",
     "output_type": "stream",
     "text": [
      "Area formula: (Height*Breadth)/2\n",
      "Area of Triangle: 544.0\n"
     ]
    },
    {
     "name": "stdin",
     "output_type": "stream",
     "text": [
      "Height1: 2\n",
      "Height2: 4\n",
      "Breadth: 4\n"
     ]
    },
    {
     "name": "stdout",
     "output_type": "stream",
     "text": [
      "Perimeter formula: Height1+Height2+Breadth\n",
      "Perimeter of Triangle: 10\n"
     ]
    }
   ],
   "source": [
    "triangle.triangle()"
   ]
  },
  {
   "cell_type": "code",
   "execution_count": null,
   "id": "6beefcd6-197f-44c5-8cb4-e81e61f06d68",
   "metadata": {},
   "outputs": [],
   "source": []
  }
 ],
 "metadata": {
  "kernelspec": {
   "display_name": "Python 3 (ipykernel)",
   "language": "python",
   "name": "python3"
  },
  "language_info": {
   "codemirror_mode": {
    "name": "ipython",
    "version": 3
   },
   "file_extension": ".py",
   "mimetype": "text/x-python",
   "name": "python",
   "nbconvert_exporter": "python",
   "pygments_lexer": "ipython3",
   "version": "3.12.4"
  }
 },
 "nbformat": 4,
 "nbformat_minor": 5
}
