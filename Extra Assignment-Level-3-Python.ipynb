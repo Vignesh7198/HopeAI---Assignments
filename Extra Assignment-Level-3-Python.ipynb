{
 "cells": [
  {
   "cell_type": "code",
   "execution_count": 1,
   "id": "dea56cf8",
   "metadata": {},
   "outputs": [
    {
     "name": "stdout",
     "output_type": "stream",
     "text": [
      "Correct\n"
     ]
    }
   ],
   "source": [
    "i=10\n",
    "if(i==10):\n",
    "    print('Correct')"
   ]
  },
  {
   "cell_type": "code",
   "execution_count": 8,
   "id": "8767db01",
   "metadata": {},
   "outputs": [
    {
     "name": "stdout",
     "output_type": "stream",
     "text": [
      "Enter your password: HOPE@123\n",
      "Your password is correct\n"
     ]
    }
   ],
   "source": [
    "savedPassword = 'HOPE@123'\n",
    "password = input('Enter your password: ')\n",
    "if(savedPassword == password):\n",
    "    print('Your password is correct')\n",
    "else:\n",
    "    print('Your password is wrong')"
   ]
  },
  {
   "cell_type": "code",
   "execution_count": 15,
   "id": "d6c8ca26",
   "metadata": {},
   "outputs": [
    {
     "name": "stdout",
     "output_type": "stream",
     "text": [
      "age: 20\n",
      "Adult\n"
     ]
    }
   ],
   "source": [
    "age =20\n",
    "if age<18:\n",
    "    print(f'age: {age}\\nChildren')\n",
    "elif age<40:\n",
    "    print(f'age: {age}\\nAdult')\n",
    "elif age<60: \n",
    "    print(f'age: {age}\\nCitizen')\n",
    "else:\n",
    "    print(f'age: {age}\\nSenior Citizen')"
   ]
  },
  {
   "cell_type": "code",
   "execution_count": 18,
   "id": "7b843e22",
   "metadata": {},
   "outputs": [
    {
     "name": "stdout",
     "output_type": "stream",
     "text": [
      "Enter any number: 1\n",
      "No is positive\n"
     ]
    }
   ],
   "source": [
    "number = int(input('Enter any number: '))\n",
    "if(number>=0):\n",
    "    print('No is positive')\n",
    "else:\n",
    "    print('No is negative')"
   ]
  },
  {
   "cell_type": "code",
   "execution_count": 21,
   "id": "de1d2de5",
   "metadata": {},
   "outputs": [
    {
     "name": "stdout",
     "output_type": "stream",
     "text": [
      "Enter a number to check:22\n",
      "No is not divisible by 5\n"
     ]
    }
   ],
   "source": [
    "number = int(input('Enter a number to check:'))\n",
    "if(number%5!=0):\n",
    "    print('No is not divisible by 5')\n",
    "else:\n",
    "      print('No is divisible by 5')\n"
   ]
  }
 ],
 "metadata": {
  "kernelspec": {
   "display_name": "Python 3 (ipykernel)",
   "language": "python",
   "name": "python3"
  },
  "language_info": {
   "codemirror_mode": {
    "name": "ipython",
    "version": 3
   },
   "file_extension": ".py",
   "mimetype": "text/x-python",
   "name": "python",
   "nbconvert_exporter": "python",
   "pygments_lexer": "ipython3",
   "version": "3.10.9"
  }
 },
 "nbformat": 4,
 "nbformat_minor": 5
}
